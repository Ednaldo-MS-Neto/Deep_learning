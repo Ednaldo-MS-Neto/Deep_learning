{
  "cells": [
    {
      "cell_type": "markdown",
      "id": "0c8f0f71",
      "metadata": {
        "id": "0c8f0f71"
      },
      "source": [
        "# 1. Redução das das amostras "
      ]
    },
    {
      "cell_type": "code",
      "execution_count": 1,
      "id": "7705661e",
      "metadata": {
        "id": "7705661e"
      },
      "outputs": [],
      "source": [
        "import pandas as pd\n",
        "import numpy as np\n",
        "import matplotlib.pyplot as plt\n",
        "import seaborn as sns\n",
        "\n",
        "import sklearn\n",
        "import random\n",
        "\n",
        "from sklearn.metrics import classification_report, confusion_matrix\n",
        "from sklearn.model_selection import train_test_split\n",
        "from sklearn.neural_network import MLPClassifier,MLPRegressor\n",
        "from sklearn.preprocessing import OneHotEncoder\n",
        "\n",
        "from tensorflow import keras\n",
        "from tensorflow.keras import layers, models\n",
        "\n",
        "from keras.utils import np_utils\n",
        "from keras.layers import BatchNormalization\n",
        "from keras.layers import Dropout\n",
        "from keras.layers.core import Dense, Dropout, Activation\n",
        "from keras.layers import Conv2D, MaxPooling2D, ZeroPadding2D, GlobalAveragePooling2D, Flatten"
      ]
    },
    {
      "cell_type": "code",
      "execution_count": null,
      "id": "190230f1",
      "metadata": {
        "id": "190230f1"
      },
      "outputs": [],
      "source": [
        "def read_instance(filepath):\n",
        "    data = pd.read_csv(filepath)\n",
        "    return(data)"
      ]
    },
    {
      "cell_type": "code",
      "execution_count": null,
      "id": "83eb1007",
      "metadata": {
        "id": "83eb1007"
      },
      "outputs": [],
      "source": [
        "def clean_data(data):\n",
        "    #data = read_instance(data)\n",
        "    #retirando a coluna de nomes, local de embarque, tarifa do passageiro, \n",
        "    #numero do ticket \n",
        "    data = data.drop(columns=['Name'])\n",
        "    data = data.drop(columns=['Ticket'])\n",
        "    data = data.drop(columns=['Fare'])\n",
        "    data = data.drop(columns=['Embarked'])\n",
        "    # escolher se tirar cabine ou não pois a cabine infere no setor do barco\n",
        "    data = data.drop(columns=['Cabin'])\n",
        "    data = data.dropna()\n",
        "    #trocando valores de male e female por 1 e 0\n",
        "    data.loc[data.Sex=='male','Sex'] = 1\n",
        "    data.loc[data.Sex=='female','Sex'] = 0\n",
        "    return data"
      ]
    },
    {
      "cell_type": "code",
      "execution_count": null,
      "id": "2681858b",
      "metadata": {
        "id": "2681858b"
      },
      "outputs": [],
      "source": [
        "data = read_instance('train.csv')"
      ]
    },
    {
      "cell_type": "code",
      "execution_count": null,
      "id": "4830cdc4",
      "metadata": {
        "id": "4830cdc4",
        "outputId": "ecc2fda1-ba84-492f-eead-7e0d0656347e"
      },
      "outputs": [
        {
          "data": {
            "text/html": [
              "<div>\n",
              "<style scoped>\n",
              "    .dataframe tbody tr th:only-of-type {\n",
              "        vertical-align: middle;\n",
              "    }\n",
              "\n",
              "    .dataframe tbody tr th {\n",
              "        vertical-align: top;\n",
              "    }\n",
              "\n",
              "    .dataframe thead th {\n",
              "        text-align: right;\n",
              "    }\n",
              "</style>\n",
              "<table border=\"1\" class=\"dataframe\">\n",
              "  <thead>\n",
              "    <tr style=\"text-align: right;\">\n",
              "      <th></th>\n",
              "      <th>PassengerId</th>\n",
              "      <th>Survived</th>\n",
              "      <th>Pclass</th>\n",
              "      <th>Name</th>\n",
              "      <th>Sex</th>\n",
              "      <th>Age</th>\n",
              "      <th>SibSp</th>\n",
              "      <th>Parch</th>\n",
              "      <th>Ticket</th>\n",
              "      <th>Fare</th>\n",
              "      <th>Cabin</th>\n",
              "      <th>Embarked</th>\n",
              "    </tr>\n",
              "  </thead>\n",
              "  <tbody>\n",
              "    <tr>\n",
              "      <th>0</th>\n",
              "      <td>1</td>\n",
              "      <td>0</td>\n",
              "      <td>3</td>\n",
              "      <td>Braund, Mr. Owen Harris</td>\n",
              "      <td>male</td>\n",
              "      <td>22.0</td>\n",
              "      <td>1</td>\n",
              "      <td>0</td>\n",
              "      <td>A/5 21171</td>\n",
              "      <td>7.2500</td>\n",
              "      <td>NaN</td>\n",
              "      <td>S</td>\n",
              "    </tr>\n",
              "    <tr>\n",
              "      <th>1</th>\n",
              "      <td>2</td>\n",
              "      <td>1</td>\n",
              "      <td>1</td>\n",
              "      <td>Cumings, Mrs. John Bradley (Florence Briggs Th...</td>\n",
              "      <td>female</td>\n",
              "      <td>38.0</td>\n",
              "      <td>1</td>\n",
              "      <td>0</td>\n",
              "      <td>PC 17599</td>\n",
              "      <td>71.2833</td>\n",
              "      <td>C85</td>\n",
              "      <td>C</td>\n",
              "    </tr>\n",
              "    <tr>\n",
              "      <th>2</th>\n",
              "      <td>3</td>\n",
              "      <td>1</td>\n",
              "      <td>3</td>\n",
              "      <td>Heikkinen, Miss. Laina</td>\n",
              "      <td>female</td>\n",
              "      <td>26.0</td>\n",
              "      <td>0</td>\n",
              "      <td>0</td>\n",
              "      <td>STON/O2. 3101282</td>\n",
              "      <td>7.9250</td>\n",
              "      <td>NaN</td>\n",
              "      <td>S</td>\n",
              "    </tr>\n",
              "    <tr>\n",
              "      <th>3</th>\n",
              "      <td>4</td>\n",
              "      <td>1</td>\n",
              "      <td>1</td>\n",
              "      <td>Futrelle, Mrs. Jacques Heath (Lily May Peel)</td>\n",
              "      <td>female</td>\n",
              "      <td>35.0</td>\n",
              "      <td>1</td>\n",
              "      <td>0</td>\n",
              "      <td>113803</td>\n",
              "      <td>53.1000</td>\n",
              "      <td>C123</td>\n",
              "      <td>S</td>\n",
              "    </tr>\n",
              "    <tr>\n",
              "      <th>4</th>\n",
              "      <td>5</td>\n",
              "      <td>0</td>\n",
              "      <td>3</td>\n",
              "      <td>Allen, Mr. William Henry</td>\n",
              "      <td>male</td>\n",
              "      <td>35.0</td>\n",
              "      <td>0</td>\n",
              "      <td>0</td>\n",
              "      <td>373450</td>\n",
              "      <td>8.0500</td>\n",
              "      <td>NaN</td>\n",
              "      <td>S</td>\n",
              "    </tr>\n",
              "    <tr>\n",
              "      <th>...</th>\n",
              "      <td>...</td>\n",
              "      <td>...</td>\n",
              "      <td>...</td>\n",
              "      <td>...</td>\n",
              "      <td>...</td>\n",
              "      <td>...</td>\n",
              "      <td>...</td>\n",
              "      <td>...</td>\n",
              "      <td>...</td>\n",
              "      <td>...</td>\n",
              "      <td>...</td>\n",
              "      <td>...</td>\n",
              "    </tr>\n",
              "    <tr>\n",
              "      <th>886</th>\n",
              "      <td>887</td>\n",
              "      <td>0</td>\n",
              "      <td>2</td>\n",
              "      <td>Montvila, Rev. Juozas</td>\n",
              "      <td>male</td>\n",
              "      <td>27.0</td>\n",
              "      <td>0</td>\n",
              "      <td>0</td>\n",
              "      <td>211536</td>\n",
              "      <td>13.0000</td>\n",
              "      <td>NaN</td>\n",
              "      <td>S</td>\n",
              "    </tr>\n",
              "    <tr>\n",
              "      <th>887</th>\n",
              "      <td>888</td>\n",
              "      <td>1</td>\n",
              "      <td>1</td>\n",
              "      <td>Graham, Miss. Margaret Edith</td>\n",
              "      <td>female</td>\n",
              "      <td>19.0</td>\n",
              "      <td>0</td>\n",
              "      <td>0</td>\n",
              "      <td>112053</td>\n",
              "      <td>30.0000</td>\n",
              "      <td>B42</td>\n",
              "      <td>S</td>\n",
              "    </tr>\n",
              "    <tr>\n",
              "      <th>888</th>\n",
              "      <td>889</td>\n",
              "      <td>0</td>\n",
              "      <td>3</td>\n",
              "      <td>Johnston, Miss. Catherine Helen \"Carrie\"</td>\n",
              "      <td>female</td>\n",
              "      <td>NaN</td>\n",
              "      <td>1</td>\n",
              "      <td>2</td>\n",
              "      <td>W./C. 6607</td>\n",
              "      <td>23.4500</td>\n",
              "      <td>NaN</td>\n",
              "      <td>S</td>\n",
              "    </tr>\n",
              "    <tr>\n",
              "      <th>889</th>\n",
              "      <td>890</td>\n",
              "      <td>1</td>\n",
              "      <td>1</td>\n",
              "      <td>Behr, Mr. Karl Howell</td>\n",
              "      <td>male</td>\n",
              "      <td>26.0</td>\n",
              "      <td>0</td>\n",
              "      <td>0</td>\n",
              "      <td>111369</td>\n",
              "      <td>30.0000</td>\n",
              "      <td>C148</td>\n",
              "      <td>C</td>\n",
              "    </tr>\n",
              "    <tr>\n",
              "      <th>890</th>\n",
              "      <td>891</td>\n",
              "      <td>0</td>\n",
              "      <td>3</td>\n",
              "      <td>Dooley, Mr. Patrick</td>\n",
              "      <td>male</td>\n",
              "      <td>32.0</td>\n",
              "      <td>0</td>\n",
              "      <td>0</td>\n",
              "      <td>370376</td>\n",
              "      <td>7.7500</td>\n",
              "      <td>NaN</td>\n",
              "      <td>Q</td>\n",
              "    </tr>\n",
              "  </tbody>\n",
              "</table>\n",
              "<p>891 rows × 12 columns</p>\n",
              "</div>"
            ],
            "text/plain": [
              "     PassengerId  Survived  Pclass  \\\n",
              "0              1         0       3   \n",
              "1              2         1       1   \n",
              "2              3         1       3   \n",
              "3              4         1       1   \n",
              "4              5         0       3   \n",
              "..           ...       ...     ...   \n",
              "886          887         0       2   \n",
              "887          888         1       1   \n",
              "888          889         0       3   \n",
              "889          890         1       1   \n",
              "890          891         0       3   \n",
              "\n",
              "                                                  Name     Sex   Age  SibSp  \\\n",
              "0                              Braund, Mr. Owen Harris    male  22.0      1   \n",
              "1    Cumings, Mrs. John Bradley (Florence Briggs Th...  female  38.0      1   \n",
              "2                               Heikkinen, Miss. Laina  female  26.0      0   \n",
              "3         Futrelle, Mrs. Jacques Heath (Lily May Peel)  female  35.0      1   \n",
              "4                             Allen, Mr. William Henry    male  35.0      0   \n",
              "..                                                 ...     ...   ...    ...   \n",
              "886                              Montvila, Rev. Juozas    male  27.0      0   \n",
              "887                       Graham, Miss. Margaret Edith  female  19.0      0   \n",
              "888           Johnston, Miss. Catherine Helen \"Carrie\"  female   NaN      1   \n",
              "889                              Behr, Mr. Karl Howell    male  26.0      0   \n",
              "890                                Dooley, Mr. Patrick    male  32.0      0   \n",
              "\n",
              "     Parch            Ticket     Fare Cabin Embarked  \n",
              "0        0         A/5 21171   7.2500   NaN        S  \n",
              "1        0          PC 17599  71.2833   C85        C  \n",
              "2        0  STON/O2. 3101282   7.9250   NaN        S  \n",
              "3        0            113803  53.1000  C123        S  \n",
              "4        0            373450   8.0500   NaN        S  \n",
              "..     ...               ...      ...   ...      ...  \n",
              "886      0            211536  13.0000   NaN        S  \n",
              "887      0            112053  30.0000   B42        S  \n",
              "888      2        W./C. 6607  23.4500   NaN        S  \n",
              "889      0            111369  30.0000  C148        C  \n",
              "890      0            370376   7.7500   NaN        Q  \n",
              "\n",
              "[891 rows x 12 columns]"
            ]
          },
          "execution_count": 5,
          "metadata": {},
          "output_type": "execute_result"
        }
      ],
      "source": [
        "data"
      ]
    },
    {
      "cell_type": "code",
      "execution_count": null,
      "id": "185df2f0",
      "metadata": {
        "id": "185df2f0",
        "outputId": "60c6f24f-c656-400c-e569-b8316fc34f21",
        "scrolled": true
      },
      "outputs": [
        {
          "name": "stdout",
          "output_type": "stream",
          "text": [
            "% de mulheres sobreviventes: 0.7420382165605095\n",
            "% de mulheres sobreviventes: 0.18890814558058924\n"
          ]
        },
        {
          "data": {
            "text/plain": [
              "<AxesSubplot:xlabel='Sex', ylabel='Survived'>"
            ]
          },
          "execution_count": 6,
          "metadata": {},
          "output_type": "execute_result"
        },
        {
          "data": {
            "image/png": "[encoded data removed]",
            "text/plain": [
              "<Figure size 432x288 with 1 Axes>"
            ]
          },
          "metadata": {
            "needs_background": "light"
          },
          "output_type": "display_data"
        }
      ],
      "source": [
        "#quem tem mais chance de soobrevivencia?\n",
        "mulher = data.loc[data.Sex == 'female'][\"Survived\"]\n",
        "m_sobrevivente = sum(mulher)/len(mulher)\n",
        "\n",
        "print(\"% de mulheres sobreviventes:\", m_sobrevivente )\n",
        "\n",
        "homem = data.loc[data.Sex == 'male'][\"Survived\"]\n",
        "h_sobrevivente = sum(homem)/len(homem)\n",
        "\n",
        "print(\"% de mulheres sobreviventes:\", h_sobrevivente )\n",
        "\n",
        "sns.barplot(x=\"Sex\", y=\"Survived\", data=data)"
      ]
    },
    {
      "cell_type": "code",
      "execution_count": null,
      "id": "55cc3940",
      "metadata": {
        "id": "55cc3940",
        "outputId": "ca173016-0b0d-4934-c72b-ffcf759dd42d",
        "scrolled": true
      },
      "outputs": [
        {
          "data": {
            "text/plain": [
              "<AxesSubplot:xlabel='Pclass', ylabel='Survived'>"
            ]
          },
          "execution_count": 7,
          "metadata": {},
          "output_type": "execute_result"
        },
        {
          "data": {
            "image/png": "[encoded data removed]",
            "text/plain": [
              "<Figure size 432x288 with 1 Axes>"
            ]
          },
          "metadata": {
            "needs_background": "light"
          },
          "output_type": "display_data"
        }
      ],
      "source": [
        "sns.barplot(x=\"Pclass\", y=\"Survived\", data=data)"
      ]
    },
    {
      "cell_type": "code",
      "execution_count": null,
      "id": "d92ceefa",
      "metadata": {
        "id": "d92ceefa",
        "outputId": "dca6c5fd-380b-4e57-8c69-af1bcb07f333",
        "scrolled": false
      },
      "outputs": [
        {
          "data": {
            "text/plain": [
              "<AxesSubplot:xlabel='Embarked', ylabel='Survived'>"
            ]
          },
          "execution_count": 8,
          "metadata": {},
          "output_type": "execute_result"
        },
        {
          "data": {
            "image/png": "[encoded data removed]",
            "text/plain": [
              "<Figure size 432x288 with 1 Axes>"
            ]
          },
          "metadata": {
            "needs_background": "light"
          },
          "output_type": "display_data"
        }
      ],
      "source": [
        "sns.barplot(x=\"Embarked\", y=\"Survived\", data=data)"
      ]
    },
    {
      "cell_type": "code",
      "execution_count": null,
      "id": "f8c49b78",
      "metadata": {
        "id": "f8c49b78",
        "outputId": "9f68e386-f160-4240-f33c-8e927dda3aca",
        "scrolled": true
      },
      "outputs": [
        {
          "data": {
            "text/plain": [
              "<AxesSubplot:xlabel='Parch', ylabel='Survived'>"
            ]
          },
          "execution_count": 9,
          "metadata": {},
          "output_type": "execute_result"
        },
        {
          "data": {
            "image/png": "[encoded data removed]",
            "text/plain": [
              "<Figure size 432x288 with 1 Axes>"
            ]
          },
          "metadata": {
            "needs_background": "light"
          },
          "output_type": "display_data"
        }
      ],
      "source": [
        "sns.barplot(x=\"Parch\", y=\"Survived\", data=data)"
      ]
    },
    {
      "cell_type": "code",
      "execution_count": null,
      "id": "82559342",
      "metadata": {
        "id": "82559342",
        "outputId": "6b597bc6-dd8b-4757-eeba-8eba90bc79a9"
      },
      "outputs": [
        {
          "data": {
            "image/png": "[encoded data removed]",
            "text/plain": [
              "<Figure size 432x288 with 1 Axes>"
            ]
          },
          "metadata": {
            "needs_background": "light"
          },
          "output_type": "display_data"
        }
      ],
      "source": [
        "data[\"Age\"] = data[\"Age\"].fillna(-0.5)\n",
        "bins = [-1, 0, 12, 18, 25, 45, np.inf]\n",
        "labels = ['-1', 'bebe', 'criança', 'adolecente', 'adulto', 'velho']\n",
        "data['Grupo idade'] = pd.cut(data[\"Age\"], bins, labels = labels)\n",
        "\n",
        "sns.barplot(x=\"Grupo idade\", y=\"Survived\", data=data)\n",
        "plt.show()"
      ]
    },
    {
      "cell_type": "code",
      "execution_count": null,
      "id": "053e5b52",
      "metadata": {
        "id": "053e5b52"
      },
      "outputs": [],
      "source": [
        "data = clean_data(data)"
      ]
    },
    {
      "cell_type": "code",
      "execution_count": null,
      "id": "4f3d45ed",
      "metadata": {
        "id": "4f3d45ed"
      },
      "outputs": [],
      "source": [
        "data = data.drop(columns=['Grupo idade'])"
      ]
    },
    {
      "cell_type": "code",
      "execution_count": null,
      "id": "bf853cd1",
      "metadata": {
        "id": "bf853cd1",
        "outputId": "563dbbda-dcc0-4b9d-ca49-4993dee96663",
        "scrolled": false
      },
      "outputs": [
        {
          "data": {
            "text/html": [
              "<div>\n",
              "<style scoped>\n",
              "    .dataframe tbody tr th:only-of-type {\n",
              "        vertical-align: middle;\n",
              "    }\n",
              "\n",
              "    .dataframe tbody tr th {\n",
              "        vertical-align: top;\n",
              "    }\n",
              "\n",
              "    .dataframe thead th {\n",
              "        text-align: right;\n",
              "    }\n",
              "</style>\n",
              "<table border=\"1\" class=\"dataframe\">\n",
              "  <thead>\n",
              "    <tr style=\"text-align: right;\">\n",
              "      <th></th>\n",
              "      <th>PassengerId</th>\n",
              "      <th>Survived</th>\n",
              "      <th>Pclass</th>\n",
              "      <th>Sex</th>\n",
              "      <th>Age</th>\n",
              "      <th>SibSp</th>\n",
              "      <th>Parch</th>\n",
              "    </tr>\n",
              "  </thead>\n",
              "  <tbody>\n",
              "    <tr>\n",
              "      <th>0</th>\n",
              "      <td>1</td>\n",
              "      <td>0</td>\n",
              "      <td>3</td>\n",
              "      <td>1</td>\n",
              "      <td>22.0</td>\n",
              "      <td>1</td>\n",
              "      <td>0</td>\n",
              "    </tr>\n",
              "    <tr>\n",
              "      <th>1</th>\n",
              "      <td>2</td>\n",
              "      <td>1</td>\n",
              "      <td>1</td>\n",
              "      <td>0</td>\n",
              "      <td>38.0</td>\n",
              "      <td>1</td>\n",
              "      <td>0</td>\n",
              "    </tr>\n",
              "    <tr>\n",
              "      <th>2</th>\n",
              "      <td>3</td>\n",
              "      <td>1</td>\n",
              "      <td>3</td>\n",
              "      <td>0</td>\n",
              "      <td>26.0</td>\n",
              "      <td>0</td>\n",
              "      <td>0</td>\n",
              "    </tr>\n",
              "    <tr>\n",
              "      <th>3</th>\n",
              "      <td>4</td>\n",
              "      <td>1</td>\n",
              "      <td>1</td>\n",
              "      <td>0</td>\n",
              "      <td>35.0</td>\n",
              "      <td>1</td>\n",
              "      <td>0</td>\n",
              "    </tr>\n",
              "    <tr>\n",
              "      <th>4</th>\n",
              "      <td>5</td>\n",
              "      <td>0</td>\n",
              "      <td>3</td>\n",
              "      <td>1</td>\n",
              "      <td>35.0</td>\n",
              "      <td>0</td>\n",
              "      <td>0</td>\n",
              "    </tr>\n",
              "    <tr>\n",
              "      <th>...</th>\n",
              "      <td>...</td>\n",
              "      <td>...</td>\n",
              "      <td>...</td>\n",
              "      <td>...</td>\n",
              "      <td>...</td>\n",
              "      <td>...</td>\n",
              "      <td>...</td>\n",
              "    </tr>\n",
              "    <tr>\n",
              "      <th>886</th>\n",
              "      <td>887</td>\n",
              "      <td>0</td>\n",
              "      <td>2</td>\n",
              "      <td>1</td>\n",
              "      <td>27.0</td>\n",
              "      <td>0</td>\n",
              "      <td>0</td>\n",
              "    </tr>\n",
              "    <tr>\n",
              "      <th>887</th>\n",
              "      <td>888</td>\n",
              "      <td>1</td>\n",
              "      <td>1</td>\n",
              "      <td>0</td>\n",
              "      <td>19.0</td>\n",
              "      <td>0</td>\n",
              "      <td>0</td>\n",
              "    </tr>\n",
              "    <tr>\n",
              "      <th>888</th>\n",
              "      <td>889</td>\n",
              "      <td>0</td>\n",
              "      <td>3</td>\n",
              "      <td>0</td>\n",
              "      <td>-0.5</td>\n",
              "      <td>1</td>\n",
              "      <td>2</td>\n",
              "    </tr>\n",
              "    <tr>\n",
              "      <th>889</th>\n",
              "      <td>890</td>\n",
              "      <td>1</td>\n",
              "      <td>1</td>\n",
              "      <td>1</td>\n",
              "      <td>26.0</td>\n",
              "      <td>0</td>\n",
              "      <td>0</td>\n",
              "    </tr>\n",
              "    <tr>\n",
              "      <th>890</th>\n",
              "      <td>891</td>\n",
              "      <td>0</td>\n",
              "      <td>3</td>\n",
              "      <td>1</td>\n",
              "      <td>32.0</td>\n",
              "      <td>0</td>\n",
              "      <td>0</td>\n",
              "    </tr>\n",
              "  </tbody>\n",
              "</table>\n",
              "<p>891 rows × 7 columns</p>\n",
              "</div>"
            ],
            "text/plain": [
              "     PassengerId  Survived  Pclass Sex   Age  SibSp  Parch\n",
              "0              1         0       3   1  22.0      1      0\n",
              "1              2         1       1   0  38.0      1      0\n",
              "2              3         1       3   0  26.0      0      0\n",
              "3              4         1       1   0  35.0      1      0\n",
              "4              5         0       3   1  35.0      0      0\n",
              "..           ...       ...     ...  ..   ...    ...    ...\n",
              "886          887         0       2   1  27.0      0      0\n",
              "887          888         1       1   0  19.0      0      0\n",
              "888          889         0       3   0  -0.5      1      2\n",
              "889          890         1       1   1  26.0      0      0\n",
              "890          891         0       3   1  32.0      0      0\n",
              "\n",
              "[891 rows x 7 columns]"
            ]
          },
          "metadata": {},
          "output_type": "display_data"
        }
      ],
      "source": [
        "display(data)"
      ]
    },
    {
      "cell_type": "code",
      "execution_count": null,
      "id": "11b4f3fc",
      "metadata": {
        "id": "11b4f3fc",
        "outputId": "82f10cad-0c0f-40b7-ff9a-d109d99d5e70"
      },
      "outputs": [
        {
          "data": {
            "text/html": [
              "<div>\n",
              "<style scoped>\n",
              "    .dataframe tbody tr th:only-of-type {\n",
              "        vertical-align: middle;\n",
              "    }\n",
              "\n",
              "    .dataframe tbody tr th {\n",
              "        vertical-align: top;\n",
              "    }\n",
              "\n",
              "    .dataframe thead th {\n",
              "        text-align: right;\n",
              "    }\n",
              "</style>\n",
              "<table border=\"1\" class=\"dataframe\">\n",
              "  <thead>\n",
              "    <tr style=\"text-align: right;\">\n",
              "      <th></th>\n",
              "      <th>PassengerId</th>\n",
              "      <th>Pclass</th>\n",
              "      <th>Sex</th>\n",
              "      <th>Age</th>\n",
              "      <th>SibSp</th>\n",
              "      <th>Parch</th>\n",
              "    </tr>\n",
              "  </thead>\n",
              "  <tbody>\n",
              "    <tr>\n",
              "      <th>0</th>\n",
              "      <td>892</td>\n",
              "      <td>3</td>\n",
              "      <td>1</td>\n",
              "      <td>34.5</td>\n",
              "      <td>0</td>\n",
              "      <td>0</td>\n",
              "    </tr>\n",
              "    <tr>\n",
              "      <th>1</th>\n",
              "      <td>893</td>\n",
              "      <td>3</td>\n",
              "      <td>0</td>\n",
              "      <td>47.0</td>\n",
              "      <td>1</td>\n",
              "      <td>0</td>\n",
              "    </tr>\n",
              "    <tr>\n",
              "      <th>2</th>\n",
              "      <td>894</td>\n",
              "      <td>2</td>\n",
              "      <td>1</td>\n",
              "      <td>62.0</td>\n",
              "      <td>0</td>\n",
              "      <td>0</td>\n",
              "    </tr>\n",
              "    <tr>\n",
              "      <th>3</th>\n",
              "      <td>895</td>\n",
              "      <td>3</td>\n",
              "      <td>1</td>\n",
              "      <td>27.0</td>\n",
              "      <td>0</td>\n",
              "      <td>0</td>\n",
              "    </tr>\n",
              "    <tr>\n",
              "      <th>4</th>\n",
              "      <td>896</td>\n",
              "      <td>3</td>\n",
              "      <td>0</td>\n",
              "      <td>22.0</td>\n",
              "      <td>1</td>\n",
              "      <td>1</td>\n",
              "    </tr>\n",
              "    <tr>\n",
              "      <th>...</th>\n",
              "      <td>...</td>\n",
              "      <td>...</td>\n",
              "      <td>...</td>\n",
              "      <td>...</td>\n",
              "      <td>...</td>\n",
              "      <td>...</td>\n",
              "    </tr>\n",
              "    <tr>\n",
              "      <th>409</th>\n",
              "      <td>1301</td>\n",
              "      <td>3</td>\n",
              "      <td>0</td>\n",
              "      <td>3.0</td>\n",
              "      <td>1</td>\n",
              "      <td>1</td>\n",
              "    </tr>\n",
              "    <tr>\n",
              "      <th>411</th>\n",
              "      <td>1303</td>\n",
              "      <td>1</td>\n",
              "      <td>0</td>\n",
              "      <td>37.0</td>\n",
              "      <td>1</td>\n",
              "      <td>0</td>\n",
              "    </tr>\n",
              "    <tr>\n",
              "      <th>412</th>\n",
              "      <td>1304</td>\n",
              "      <td>3</td>\n",
              "      <td>0</td>\n",
              "      <td>28.0</td>\n",
              "      <td>0</td>\n",
              "      <td>0</td>\n",
              "    </tr>\n",
              "    <tr>\n",
              "      <th>414</th>\n",
              "      <td>1306</td>\n",
              "      <td>1</td>\n",
              "      <td>0</td>\n",
              "      <td>39.0</td>\n",
              "      <td>0</td>\n",
              "      <td>0</td>\n",
              "    </tr>\n",
              "    <tr>\n",
              "      <th>415</th>\n",
              "      <td>1307</td>\n",
              "      <td>3</td>\n",
              "      <td>1</td>\n",
              "      <td>38.5</td>\n",
              "      <td>0</td>\n",
              "      <td>0</td>\n",
              "    </tr>\n",
              "  </tbody>\n",
              "</table>\n",
              "<p>332 rows × 6 columns</p>\n",
              "</div>"
            ],
            "text/plain": [
              "     PassengerId  Pclass Sex   Age  SibSp  Parch\n",
              "0            892       3   1  34.5      0      0\n",
              "1            893       3   0  47.0      1      0\n",
              "2            894       2   1  62.0      0      0\n",
              "3            895       3   1  27.0      0      0\n",
              "4            896       3   0  22.0      1      1\n",
              "..           ...     ...  ..   ...    ...    ...\n",
              "409         1301       3   0   3.0      1      1\n",
              "411         1303       1   0  37.0      1      0\n",
              "412         1304       3   0  28.0      0      0\n",
              "414         1306       1   0  39.0      0      0\n",
              "415         1307       3   1  38.5      0      0\n",
              "\n",
              "[332 rows x 6 columns]"
            ]
          },
          "metadata": {},
          "output_type": "display_data"
        }
      ],
      "source": [
        "data_test = read_instance('test.csv')\n",
        "data_test = clean_data(data_test)\n",
        "display(data_test)"
      ]
    },
    {
      "cell_type": "markdown",
      "id": "b2d27984",
      "metadata": {
        "id": "b2d27984"
      },
      "source": [
        "## Treino"
      ]
    },
    {
      "cell_type": "code",
      "execution_count": null,
      "id": "8a839d01",
      "metadata": {
        "id": "8a839d01",
        "outputId": "6d057328-4495-47aa-ac20-1e09552d6b45"
      },
      "outputs": [
        {
          "data": {
            "text/html": [
              "<div>\n",
              "<style scoped>\n",
              "    .dataframe tbody tr th:only-of-type {\n",
              "        vertical-align: middle;\n",
              "    }\n",
              "\n",
              "    .dataframe tbody tr th {\n",
              "        vertical-align: top;\n",
              "    }\n",
              "\n",
              "    .dataframe thead th {\n",
              "        text-align: right;\n",
              "    }\n",
              "</style>\n",
              "<table border=\"1\" class=\"dataframe\">\n",
              "  <thead>\n",
              "    <tr style=\"text-align: right;\">\n",
              "      <th></th>\n",
              "      <th>PassengerId</th>\n",
              "      <th>Survived</th>\n",
              "      <th>Pclass</th>\n",
              "      <th>Sex</th>\n",
              "      <th>Age</th>\n",
              "      <th>SibSp</th>\n",
              "      <th>Parch</th>\n",
              "    </tr>\n",
              "  </thead>\n",
              "  <tbody>\n",
              "    <tr>\n",
              "      <th>0</th>\n",
              "      <td>1</td>\n",
              "      <td>0</td>\n",
              "      <td>3</td>\n",
              "      <td>1</td>\n",
              "      <td>22.0</td>\n",
              "      <td>1</td>\n",
              "      <td>0</td>\n",
              "    </tr>\n",
              "    <tr>\n",
              "      <th>1</th>\n",
              "      <td>2</td>\n",
              "      <td>1</td>\n",
              "      <td>1</td>\n",
              "      <td>0</td>\n",
              "      <td>38.0</td>\n",
              "      <td>1</td>\n",
              "      <td>0</td>\n",
              "    </tr>\n",
              "    <tr>\n",
              "      <th>2</th>\n",
              "      <td>3</td>\n",
              "      <td>1</td>\n",
              "      <td>3</td>\n",
              "      <td>0</td>\n",
              "      <td>26.0</td>\n",
              "      <td>0</td>\n",
              "      <td>0</td>\n",
              "    </tr>\n",
              "    <tr>\n",
              "      <th>3</th>\n",
              "      <td>4</td>\n",
              "      <td>1</td>\n",
              "      <td>1</td>\n",
              "      <td>0</td>\n",
              "      <td>35.0</td>\n",
              "      <td>1</td>\n",
              "      <td>0</td>\n",
              "    </tr>\n",
              "    <tr>\n",
              "      <th>4</th>\n",
              "      <td>5</td>\n",
              "      <td>0</td>\n",
              "      <td>3</td>\n",
              "      <td>1</td>\n",
              "      <td>35.0</td>\n",
              "      <td>0</td>\n",
              "      <td>0</td>\n",
              "    </tr>\n",
              "    <tr>\n",
              "      <th>...</th>\n",
              "      <td>...</td>\n",
              "      <td>...</td>\n",
              "      <td>...</td>\n",
              "      <td>...</td>\n",
              "      <td>...</td>\n",
              "      <td>...</td>\n",
              "      <td>...</td>\n",
              "    </tr>\n",
              "    <tr>\n",
              "      <th>886</th>\n",
              "      <td>887</td>\n",
              "      <td>0</td>\n",
              "      <td>2</td>\n",
              "      <td>1</td>\n",
              "      <td>27.0</td>\n",
              "      <td>0</td>\n",
              "      <td>0</td>\n",
              "    </tr>\n",
              "    <tr>\n",
              "      <th>887</th>\n",
              "      <td>888</td>\n",
              "      <td>1</td>\n",
              "      <td>1</td>\n",
              "      <td>0</td>\n",
              "      <td>19.0</td>\n",
              "      <td>0</td>\n",
              "      <td>0</td>\n",
              "    </tr>\n",
              "    <tr>\n",
              "      <th>888</th>\n",
              "      <td>889</td>\n",
              "      <td>0</td>\n",
              "      <td>3</td>\n",
              "      <td>0</td>\n",
              "      <td>-0.5</td>\n",
              "      <td>1</td>\n",
              "      <td>2</td>\n",
              "    </tr>\n",
              "    <tr>\n",
              "      <th>889</th>\n",
              "      <td>890</td>\n",
              "      <td>1</td>\n",
              "      <td>1</td>\n",
              "      <td>1</td>\n",
              "      <td>26.0</td>\n",
              "      <td>0</td>\n",
              "      <td>0</td>\n",
              "    </tr>\n",
              "    <tr>\n",
              "      <th>890</th>\n",
              "      <td>891</td>\n",
              "      <td>0</td>\n",
              "      <td>3</td>\n",
              "      <td>1</td>\n",
              "      <td>32.0</td>\n",
              "      <td>0</td>\n",
              "      <td>0</td>\n",
              "    </tr>\n",
              "  </tbody>\n",
              "</table>\n",
              "<p>891 rows × 7 columns</p>\n",
              "</div>"
            ],
            "text/plain": [
              "     PassengerId  Survived  Pclass Sex   Age  SibSp  Parch\n",
              "0              1         0       3   1  22.0      1      0\n",
              "1              2         1       1   0  38.0      1      0\n",
              "2              3         1       3   0  26.0      0      0\n",
              "3              4         1       1   0  35.0      1      0\n",
              "4              5         0       3   1  35.0      0      0\n",
              "..           ...       ...     ...  ..   ...    ...    ...\n",
              "886          887         0       2   1  27.0      0      0\n",
              "887          888         1       1   0  19.0      0      0\n",
              "888          889         0       3   0  -0.5      1      2\n",
              "889          890         1       1   1  26.0      0      0\n",
              "890          891         0       3   1  32.0      0      0\n",
              "\n",
              "[891 rows x 7 columns]"
            ]
          },
          "execution_count": 15,
          "metadata": {},
          "output_type": "execute_result"
        }
      ],
      "source": [
        "data"
      ]
    },
    {
      "cell_type": "code",
      "execution_count": null,
      "id": "25824c4d",
      "metadata": {
        "id": "25824c4d"
      },
      "outputs": [],
      "source": [
        "x,y = data.drop(columns=['Survived']), data['Survived']"
      ]
    },
    {
      "cell_type": "code",
      "execution_count": null,
      "id": "cfe308a7",
      "metadata": {
        "id": "cfe308a7"
      },
      "outputs": [],
      "source": [
        "x_train, x_test, y_train, y_test = train_test_split(x,y, test_size=0.3)"
      ]
    },
    {
      "cell_type": "code",
      "execution_count": null,
      "id": "303f1a53",
      "metadata": {
        "id": "303f1a53",
        "outputId": "a0b3af31-0eed-48d3-9627-cd2192a682cd"
      },
      "outputs": [
        {
          "data": {
            "text/plain": [
              "MLPClassifier(activation='logistic', hidden_layer_sizes=100, max_iter=10000)"
            ]
          },
          "execution_count": 18,
          "metadata": {},
          "output_type": "execute_result"
        }
      ],
      "source": [
        "model = MLPClassifier(activation='logistic', max_iter=10000,solver ='adam',hidden_layer_sizes = (100))\n",
        "model.fit(x_train, y_train)"
      ]
    },
    {
      "cell_type": "code",
      "execution_count": null,
      "id": "83ec80bf",
      "metadata": {
        "id": "83ec80bf",
        "outputId": "491c340d-dd75-4454-dfe5-4c2f5ddde808"
      },
      "outputs": [
        {
          "name": "stdout",
          "output_type": "stream",
          "text": [
            "              precision    recall  f1-score   support\n",
            "\n",
            "           0       0.80      0.93      0.86       160\n",
            "           1       0.85      0.65      0.74       108\n",
            "\n",
            "    accuracy                           0.81       268\n",
            "   macro avg       0.82      0.79      0.80       268\n",
            "weighted avg       0.82      0.81      0.81       268\n",
            "\n"
          ]
        }
      ],
      "source": [
        "y_pred = model.predict(x_test)\n",
        "print(classification_report(y_test,y_pred))"
      ]
    },
    {
      "cell_type": "markdown",
      "id": "LsreAkhLRA6J",
      "metadata": {
        "id": "LsreAkhLRA6J"
      },
      "source": [
        "# **Questão 2 - MNIST**"
      ]
    },
    {
      "cell_type": "code",
      "execution_count": null,
      "id": "AYGIbmqVREBx",
      "metadata": {
        "id": "AYGIbmqVREBx"
      },
      "outputs": [],
      "source": [
        "(X_train, Y_train), (X_test, Y_test) = keras.datasets.mnist.load_data()"
      ]
    },
    {
      "cell_type": "code",
      "execution_count": null,
      "id": "u__8A-28Rncc",
      "metadata": {
        "colab": {
          "base_uri": "https://localhost:8080/"
        },
        "id": "u__8A-28Rncc",
        "outputId": "3ecc731d-ccc6-4ccb-ed80-8212d9cc19a4"
      },
      "outputs": [
        {
          "name": "stdout",
          "output_type": "stream",
          "text": [
            "[[[0 0 0 ... 0 0 0]\n",
            "  [0 0 0 ... 0 0 0]\n",
            "  [0 0 0 ... 0 0 0]\n",
            "  ...\n",
            "  [0 0 0 ... 0 0 0]\n",
            "  [0 0 0 ... 0 0 0]\n",
            "  [0 0 0 ... 0 0 0]]\n",
            "\n",
            " [[0 0 0 ... 0 0 0]\n",
            "  [0 0 0 ... 0 0 0]\n",
            "  [0 0 0 ... 0 0 0]\n",
            "  ...\n",
            "  [0 0 0 ... 0 0 0]\n",
            "  [0 0 0 ... 0 0 0]\n",
            "  [0 0 0 ... 0 0 0]]\n",
            "\n",
            " [[0 0 0 ... 0 0 0]\n",
            "  [0 0 0 ... 0 0 0]\n",
            "  [0 0 0 ... 0 0 0]\n",
            "  ...\n",
            "  [0 0 0 ... 0 0 0]\n",
            "  [0 0 0 ... 0 0 0]\n",
            "  [0 0 0 ... 0 0 0]]\n",
            "\n",
            " ...\n",
            "\n",
            " [[0 0 0 ... 0 0 0]\n",
            "  [0 0 0 ... 0 0 0]\n",
            "  [0 0 0 ... 0 0 0]\n",
            "  ...\n",
            "  [0 0 0 ... 0 0 0]\n",
            "  [0 0 0 ... 0 0 0]\n",
            "  [0 0 0 ... 0 0 0]]\n",
            "\n",
            " [[0 0 0 ... 0 0 0]\n",
            "  [0 0 0 ... 0 0 0]\n",
            "  [0 0 0 ... 0 0 0]\n",
            "  ...\n",
            "  [0 0 0 ... 0 0 0]\n",
            "  [0 0 0 ... 0 0 0]\n",
            "  [0 0 0 ... 0 0 0]]\n",
            "\n",
            " [[0 0 0 ... 0 0 0]\n",
            "  [0 0 0 ... 0 0 0]\n",
            "  [0 0 0 ... 0 0 0]\n",
            "  ...\n",
            "  [0 0 0 ... 0 0 0]\n",
            "  [0 0 0 ... 0 0 0]\n",
            "  [0 0 0 ... 0 0 0]]]\n"
          ]
        }
      ],
      "source": [
        "print(X_train)"
      ]
    },
    {
      "cell_type": "code",
      "execution_count": null,
      "id": "rZbi8DFYRqLi",
      "metadata": {
        "colab": {
          "base_uri": "https://localhost:8080/"
        },
        "id": "rZbi8DFYRqLi",
        "outputId": "43a2cf5a-bc0d-453e-b3cb-5ae2d419c695"
      },
      "outputs": [
        {
          "name": "stdout",
          "output_type": "stream",
          "text": [
            "[5 0 4 ... 5 6 8]\n"
          ]
        }
      ],
      "source": [
        "print(Y_train)"
      ]
    },
    {
      "cell_type": "code",
      "execution_count": null,
      "id": "A5FMVg3uRsi8",
      "metadata": {
        "colab": {
          "base_uri": "https://localhost:8080/",
          "height": 688
        },
        "id": "A5FMVg3uRsi8",
        "outputId": "cc8f7d0c-aa4e-410e-cbc6-997db025f75e"
      },
      "outputs": [
        {
          "data": {
            "image/png": "[encoded data removed]",
            "text/plain": [
              "<Figure size 720x864 with 9 Axes>"
            ]
          },
          "metadata": {
            "needs_background": "light"
          },
          "output_type": "display_data"
        }
      ],
      "source": [
        "plt.figure(figsize=(10, 12))\n",
        "\n",
        "for i in range (0, 9):\n",
        "   plt.subplot(3, 3, i+1)\n",
        "   num = random.randint(0, len(X_train))\n",
        "   plt.imshow(X_train[num], cmap='gray')\n",
        "   plt.title(\"Class {}\".format(Y_train[num]))\n",
        "\n",
        "plt.show()"
      ]
    },
    {
      "cell_type": "markdown",
      "id": "sEioMieaRzsC",
      "metadata": {
        "id": "sEioMieaRzsC"
      },
      "source": [
        "## **Modelo Perceptron clássico**"
      ]
    },
    {
      "cell_type": "code",
      "execution_count": null,
      "id": "YspkAbfARuKS",
      "metadata": {
        "id": "YspkAbfARuKS"
      },
      "outputs": [],
      "source": [
        "Y_train = np.array(Y_train).reshape(-1, 1)\n",
        "Y_test = np.array(Y_test).reshape(-1, 1)\n",
        "\n",
        "X_train = np.array(X_train)\n",
        "Y_train = np.array(Y_train)"
      ]
    },
    {
      "cell_type": "code",
      "execution_count": null,
      "id": "OgU9wO2NR42U",
      "metadata": {
        "colab": {
          "base_uri": "https://localhost:8080/"
        },
        "id": "OgU9wO2NR42U",
        "outputId": "53106f5f-d25b-4011-d39f-43e3399f1df3"
      },
      "outputs": [
        {
          "name": "stdout",
          "output_type": "stream",
          "text": [
            "Treino:  (60000, 28, 28) Teste:  (10000, 28, 28)\n"
          ]
        }
      ],
      "source": [
        "print('Treino: ', X_train.shape, 'Teste: ', X_test.shape)"
      ]
    },
    {
      "cell_type": "code",
      "execution_count": null,
      "id": "9BKckXD9R6b_",
      "metadata": {
        "colab": {
          "base_uri": "https://localhost:8080/"
        },
        "id": "9BKckXD9R6b_",
        "outputId": "e0d58d57-a4b3-47b0-de01-2d63b0f05e20"
      },
      "outputs": [
        {
          "name": "stdout",
          "output_type": "stream",
          "text": [
            "Treino:  (60000, 784) Teste:  (10000, 784)\n"
          ]
        }
      ],
      "source": [
        "#  60,000 matrizes 28 x 28 em 60,000 vetores de tamanho: 784\n",
        "\n",
        "X_train = X_train.reshape(X_train.shape[0], X_train.shape[1] * X_train.shape[2])\n",
        "X_test = X_test.reshape(X_test.shape[0], X_test.shape[1] * X_test.shape[2])\n",
        "print('Treino: ', X_train.shape, 'Teste: ', X_test.shape)"
      ]
    },
    {
      "cell_type": "code",
      "execution_count": null,
      "id": "aj_WTdKbR8Ou",
      "metadata": {
        "id": "aj_WTdKbR8Ou"
      },
      "outputs": [],
      "source": [
        "# Normalização\n",
        "X_train = X_train/255\n",
        "X_test = X_test/255"
      ]
    },
    {
      "cell_type": "code",
      "execution_count": null,
      "id": "UGlZUOBxR-hZ",
      "metadata": {
        "id": "UGlZUOBxR-hZ"
      },
      "outputs": [],
      "source": [
        "dummy = OneHotEncoder(sparse = False)\n",
        "\n",
        "Y_train_hot = dummy.fit_transform(Y_train)\n",
        "Y_test_hot = dummy.fit_transform(Y_test)\n"
      ]
    },
    {
      "cell_type": "code",
      "execution_count": null,
      "id": "AG5ZOLzPSBdj",
      "metadata": {
        "colab": {
          "base_uri": "https://localhost:8080/"
        },
        "id": "AG5ZOLzPSBdj",
        "outputId": "4ff50860-e927-4121-9b54-cf69f9759cce"
      },
      "outputs": [
        {
          "data": {
            "text/plain": [
              "array([[0., 0., 0., ..., 0., 0., 0.],\n",
              "       [1., 0., 0., ..., 0., 0., 0.],\n",
              "       [0., 0., 0., ..., 0., 0., 0.],\n",
              "       ...,\n",
              "       [0., 0., 0., ..., 0., 0., 0.],\n",
              "       [0., 0., 0., ..., 0., 0., 0.],\n",
              "       [0., 0., 0., ..., 0., 1., 0.]])"
            ]
          },
          "execution_count": 29,
          "metadata": {},
          "output_type": "execute_result"
        }
      ],
      "source": [
        "Y_train_hot"
      ]
    },
    {
      "cell_type": "code",
      "execution_count": null,
      "id": "pLiFoagMSQ1O",
      "metadata": {
        "id": "pLiFoagMSQ1O"
      },
      "outputs": [],
      "source": [
        "input_dim = X_train.shape[1]\n",
        "output_dim = 10"
      ]
    },
    {
      "cell_type": "code",
      "execution_count": null,
      "id": "y2TyQfjVSTEL",
      "metadata": {
        "id": "y2TyQfjVSTEL"
      },
      "outputs": [],
      "source": [
        "model = keras.Sequential(\n",
        "    [\n",
        "        keras.layers.Dense(200, activation='relu', input_dim = input_dim),\n",
        "        BatchNormalization(),\n",
        "        Dropout(0.25),\n",
        "\n",
        "        keras.layers.Dense(100, activation='relu'),\n",
        "        BatchNormalization(),\n",
        "        Dropout(0.25),\n",
        "                \n",
        "        keras.layers.Dense(50, activation='relu'),\n",
        "        BatchNormalization(),\n",
        "        Dropout(0.25),\n",
        "\n",
        "        keras.layers.Dense(output_dim, activation='softmax'),\n",
        "])"
      ]
    },
    {
      "cell_type": "code",
      "execution_count": null,
      "id": "fVL9TsG7SYsT",
      "metadata": {
        "colab": {
          "base_uri": "https://localhost:8080/"
        },
        "id": "fVL9TsG7SYsT",
        "outputId": "24cbffdf-3b34-449a-e565-dfac82255e4b"
      },
      "outputs": [
        {
          "name": "stdout",
          "output_type": "stream",
          "text": [
            "Model: \"sequential\"\n",
            "_________________________________________________________________\n",
            " Layer (type)                Output Shape              Param #   \n",
            "=================================================================\n",
            " dense (Dense)               (None, 200)               157000    \n",
            "                                                                 \n",
            " batch_normalization (BatchN  (None, 200)              800       \n",
            " ormalization)                                                   \n",
            "                                                                 \n",
            " dropout (Dropout)           (None, 200)               0         \n",
            "                                                                 \n",
            " dense_1 (Dense)             (None, 100)               20100     \n",
            "                                                                 \n",
            " batch_normalization_1 (Batc  (None, 100)              400       \n",
            " hNormalization)                                                 \n",
            "                                                                 \n",
            " dropout_1 (Dropout)         (None, 100)               0         \n",
            "                                                                 \n",
            " dense_2 (Dense)             (None, 50)                5050      \n",
            "                                                                 \n",
            " batch_normalization_2 (Batc  (None, 50)               200       \n",
            " hNormalization)                                                 \n",
            "                                                                 \n",
            " dropout_2 (Dropout)         (None, 50)                0         \n",
            "                                                                 \n",
            " dense_3 (Dense)             (None, 10)                510       \n",
            "                                                                 \n",
            "=================================================================\n",
            "Total params: 184,060\n",
            "Trainable params: 183,360\n",
            "Non-trainable params: 700\n",
            "_________________________________________________________________\n"
          ]
        }
      ],
      "source": [
        "model.summary()"
      ]
    },
    {
      "cell_type": "code",
      "execution_count": null,
      "id": "x5WQ2WANSaVo",
      "metadata": {
        "colab": {
          "base_uri": "https://localhost:8080/"
        },
        "id": "x5WQ2WANSaVo",
        "outputId": "e0c006c0-7470-416f-fc01-bf88d6fc4063"
      },
      "outputs": [
        {
          "name": "stdout",
          "output_type": "stream",
          "text": [
            "Epoch 1/30\n",
            "1875/1875 [==============================] - 6s 3ms/step - loss: 0.4248 - accuracy: 0.8726 - val_loss: 0.1602 - val_accuracy: 0.9491\n",
            "Epoch 2/30\n",
            "1875/1875 [==============================] - 5s 3ms/step - loss: 0.2292 - accuracy: 0.9327 - val_loss: 0.1136 - val_accuracy: 0.9657\n",
            "Epoch 3/30\n",
            "1875/1875 [==============================] - 5s 3ms/step - loss: 0.1906 - accuracy: 0.9435 - val_loss: 0.0897 - val_accuracy: 0.9723\n",
            "Epoch 4/30\n",
            "1875/1875 [==============================] - 5s 3ms/step - loss: 0.1680 - accuracy: 0.9508 - val_loss: 0.0875 - val_accuracy: 0.9741\n",
            "Epoch 5/30\n",
            "1875/1875 [==============================] - 6s 3ms/step - loss: 0.1454 - accuracy: 0.9560 - val_loss: 0.0723 - val_accuracy: 0.9776\n",
            "Epoch 6/30\n",
            "1875/1875 [==============================] - 5s 3ms/step - loss: 0.1392 - accuracy: 0.9581 - val_loss: 0.0769 - val_accuracy: 0.9757\n",
            "Epoch 7/30\n",
            "1875/1875 [==============================] - 7s 4ms/step - loss: 0.1286 - accuracy: 0.9617 - val_loss: 0.0697 - val_accuracy: 0.9780\n",
            "Epoch 8/30\n",
            "1875/1875 [==============================] - 7s 4ms/step - loss: 0.1188 - accuracy: 0.9650 - val_loss: 0.0701 - val_accuracy: 0.9799\n",
            "Epoch 9/30\n",
            "1875/1875 [==============================] - 7s 4ms/step - loss: 0.1107 - accuracy: 0.9670 - val_loss: 0.0660 - val_accuracy: 0.9791\n",
            "Epoch 10/30\n",
            "1875/1875 [==============================] - 7s 4ms/step - loss: 0.1077 - accuracy: 0.9672 - val_loss: 0.0657 - val_accuracy: 0.9807\n",
            "Epoch 11/30\n",
            "1875/1875 [==============================] - 7s 4ms/step - loss: 0.1045 - accuracy: 0.9683 - val_loss: 0.0598 - val_accuracy: 0.9814\n",
            "Epoch 12/30\n",
            "1875/1875 [==============================] - 7s 4ms/step - loss: 0.0951 - accuracy: 0.9715 - val_loss: 0.0699 - val_accuracy: 0.9783\n",
            "Epoch 13/30\n",
            "1875/1875 [==============================] - 6s 3ms/step - loss: 0.0943 - accuracy: 0.9708 - val_loss: 0.0609 - val_accuracy: 0.9812\n",
            "Epoch 14/30\n",
            "1875/1875 [==============================] - 6s 3ms/step - loss: 0.0910 - accuracy: 0.9722 - val_loss: 0.0618 - val_accuracy: 0.9824\n",
            "Epoch 15/30\n",
            "1875/1875 [==============================] - 6s 3ms/step - loss: 0.0852 - accuracy: 0.9743 - val_loss: 0.0559 - val_accuracy: 0.9831\n",
            "Epoch 16/30\n",
            "1875/1875 [==============================] - 6s 3ms/step - loss: 0.0836 - accuracy: 0.9742 - val_loss: 0.0594 - val_accuracy: 0.9827\n",
            "Epoch 17/30\n",
            "1875/1875 [==============================] - 7s 4ms/step - loss: 0.0859 - accuracy: 0.9744 - val_loss: 0.0606 - val_accuracy: 0.9824\n",
            "Epoch 18/30\n",
            "1875/1875 [==============================] - 7s 4ms/step - loss: 0.0815 - accuracy: 0.9749 - val_loss: 0.0610 - val_accuracy: 0.9826\n",
            "Epoch 19/30\n",
            "1875/1875 [==============================] - 5s 3ms/step - loss: 0.0774 - accuracy: 0.9764 - val_loss: 0.0618 - val_accuracy: 0.9819\n",
            "Epoch 20/30\n",
            "1875/1875 [==============================] - 5s 3ms/step - loss: 0.0742 - accuracy: 0.9774 - val_loss: 0.0598 - val_accuracy: 0.9825\n",
            "Epoch 21/30\n",
            "1875/1875 [==============================] - 5s 3ms/step - loss: 0.0743 - accuracy: 0.9775 - val_loss: 0.0530 - val_accuracy: 0.9835\n",
            "Epoch 22/30\n",
            "1875/1875 [==============================] - 6s 3ms/step - loss: 0.0772 - accuracy: 0.9773 - val_loss: 0.0587 - val_accuracy: 0.9829\n",
            "Epoch 23/30\n",
            "1875/1875 [==============================] - 5s 3ms/step - loss: 0.0702 - accuracy: 0.9792 - val_loss: 0.0515 - val_accuracy: 0.9844\n",
            "Epoch 24/30\n",
            "1875/1875 [==============================] - 5s 3ms/step - loss: 0.0708 - accuracy: 0.9785 - val_loss: 0.0529 - val_accuracy: 0.9840\n",
            "Epoch 25/30\n",
            "1875/1875 [==============================] - 5s 3ms/step - loss: 0.0648 - accuracy: 0.9802 - val_loss: 0.0532 - val_accuracy: 0.9848\n",
            "Epoch 26/30\n",
            "1875/1875 [==============================] - 5s 3ms/step - loss: 0.0627 - accuracy: 0.9805 - val_loss: 0.0540 - val_accuracy: 0.9844\n",
            "Epoch 27/30\n",
            "1875/1875 [==============================] - 5s 3ms/step - loss: 0.0644 - accuracy: 0.9802 - val_loss: 0.0603 - val_accuracy: 0.9818\n",
            "Epoch 28/30\n",
            "1875/1875 [==============================] - 6s 3ms/step - loss: 0.0640 - accuracy: 0.9813 - val_loss: 0.0622 - val_accuracy: 0.9819\n",
            "Epoch 29/30\n",
            "1875/1875 [==============================] - 5s 3ms/step - loss: 0.0614 - accuracy: 0.9810 - val_loss: 0.0645 - val_accuracy: 0.9824\n",
            "Epoch 30/30\n",
            "1875/1875 [==============================] - 5s 3ms/step - loss: 0.0644 - accuracy: 0.9801 - val_loss: 0.0601 - val_accuracy: 0.9823\n"
          ]
        }
      ],
      "source": [
        "model.compile(optimizer = 'adam', loss = 'categorical_crossentropy', metrics = ['accuracy'])\n",
        "\n",
        "history = model.fit(X_train, Y_train_hot, epochs = 30, validation_data = (X_test, Y_test_hot))"
      ]
    },
    {
      "cell_type": "markdown",
      "id": "hiVGyuTQTt3U",
      "metadata": {
        "id": "hiVGyuTQTt3U"
      },
      "source": [
        "## **Erro e validação**"
      ]
    },
    {
      "cell_type": "code",
      "execution_count": null,
      "id": "35rYrNQZSd2q",
      "metadata": {
        "id": "35rYrNQZSd2q"
      },
      "outputs": [],
      "source": [
        "vl = history.history['val_loss']\n",
        "tl = history.history['loss']"
      ]
    },
    {
      "cell_type": "code",
      "execution_count": null,
      "id": "QPUd-5_RT16b",
      "metadata": {
        "colab": {
          "base_uri": "https://localhost:8080/",
          "height": 391
        },
        "id": "QPUd-5_RT16b",
        "outputId": "7177cbbd-b5a2-4d53-d38b-2a08f58daa41"
      },
      "outputs": [
        {
          "data": {
            "text/plain": [
              "[<matplotlib.lines.Line2D at 0x19632258be0>]"
            ]
          },
          "execution_count": 35,
          "metadata": {},
          "output_type": "execute_result"
        },
        {
          "data": {
            "image/png": "[encoded data removed]",
            "text/plain": [
              "<Figure size 648x432 with 1 Axes>"
            ]
          },
          "metadata": {
            "needs_background": "light"
          },
          "output_type": "display_data"
        }
      ],
      "source": [
        "plt.figure(figsize=(9, 6))\n",
        "plt.plot(vl, color = 'y') # amarelo\n",
        "plt.plot(tl)"
      ]
    },
    {
      "cell_type": "code",
      "execution_count": null,
      "id": "-Io8PftHT3vD",
      "metadata": {
        "colab": {
          "base_uri": "https://localhost:8080/"
        },
        "id": "-Io8PftHT3vD",
        "outputId": "4fed0051-8668-4833-adf7-5a1a07831429"
      },
      "outputs": [
        {
          "name": "stdout",
          "output_type": "stream",
          "text": [
            "313/313 [==============================] - 0s 1ms/step - loss: 0.0601 - accuracy: 0.9823\n",
            "1875/1875 [==============================] - 5s 3ms/step - loss: 0.0116 - accuracy: 0.9966\n"
          ]
        }
      ],
      "source": [
        "score = model.evaluate(X_test, Y_test_hot) # [loss_test, acc_test]\n",
        "score2 = model.evaluate(X_train, Y_train_hot)"
      ]
    },
    {
      "cell_type": "code",
      "execution_count": null,
      "id": "5MS-td44T9L7",
      "metadata": {
        "colab": {
          "base_uri": "https://localhost:8080/"
        },
        "id": "5MS-td44T9L7",
        "outputId": "6f898969-56ce-454c-c354-06f6ad2ef9f6"
      },
      "outputs": [
        {
          "name": "stdout",
          "output_type": "stream",
          "text": [
            "Acurácia treino:  0.9966333508491516\n",
            "Acurácia Teste:  0.9822999835014343\n"
          ]
        }
      ],
      "source": [
        "print('Acurácia treino: ', score2[1])\n",
        "print('Acurácia Teste: ', score[1])"
      ]
    },
    {
      "cell_type": "markdown",
      "id": "QCGaouoOUDaE",
      "metadata": {
        "id": "QCGaouoOUDaE"
      },
      "source": [
        "## **Matriz de confusão Perceptron**"
      ]
    },
    {
      "cell_type": "code",
      "execution_count": null,
      "id": "qOpo9DpFT-r3",
      "metadata": {
        "id": "qOpo9DpFT-r3"
      },
      "outputs": [],
      "source": [
        "Y_pred = model.predict(X_test)"
      ]
    },
    {
      "cell_type": "code",
      "execution_count": null,
      "id": "XHaDsp-gUChW",
      "metadata": {
        "colab": {
          "base_uri": "https://localhost:8080/"
        },
        "id": "XHaDsp-gUChW",
        "outputId": "c86a8406-4f44-4379-b4f1-9afbd0037fb3"
      },
      "outputs": [
        {
          "name": "stdout",
          "output_type": "stream",
          "text": [
            "[[ 976    0    2    0    1    3    5    1    3    3]\n",
            " [   0 1126    0    0    0    0    2    3    0    2]\n",
            " [   1    3 1015    2    3    0    1    8    2    0]\n",
            " [   0    1    4  998    0   13    1    1    4    6]\n",
            " [   0    0    2    0  958    1    3    0    3    9]\n",
            " [   1    1    0    2    0  866    3    0    1    1]\n",
            " [   0    1    0    0    5    3  942    0    0    0]\n",
            " [   1    1    7    2    2    1    0 1008    5    4]\n",
            " [   1    2    2    2    1    2    1    1  953    3]\n",
            " [   0    0    0    4   12    3    0    6    3  981]]\n"
          ]
        }
      ],
      "source": [
        "print(confusion_matrix(np.argmax(Y_pred, axis=1), np.argmax(Y_test_hot, axis=1) ))"
      ]
    },
    {
      "cell_type": "code",
      "execution_count": null,
      "id": "wa-2jhHvUHNb",
      "metadata": {
        "colab": {
          "base_uri": "https://localhost:8080/"
        },
        "id": "wa-2jhHvUHNb",
        "outputId": "5480f04d-4c21-4013-ec8f-088aeb625853"
      },
      "outputs": [
        {
          "name": "stdout",
          "output_type": "stream",
          "text": [
            "              precision    recall  f1-score   support\n",
            "\n",
            "           0       1.00      0.98      0.99       994\n",
            "           1       0.99      0.99      0.99      1133\n",
            "           2       0.98      0.98      0.98      1035\n",
            "           3       0.99      0.97      0.98      1028\n",
            "           4       0.98      0.98      0.98       976\n",
            "           5       0.97      0.99      0.98       875\n",
            "           6       0.98      0.99      0.99       951\n",
            "           7       0.98      0.98      0.98      1031\n",
            "           8       0.98      0.98      0.98       968\n",
            "           9       0.97      0.97      0.97      1009\n",
            "\n",
            "    accuracy                           0.98     10000\n",
            "   macro avg       0.98      0.98      0.98     10000\n",
            "weighted avg       0.98      0.98      0.98     10000\n",
            "\n"
          ]
        }
      ],
      "source": [
        "print(classification_report(np.argmax(Y_pred, axis=1), np.argmax(Y_test_hot, axis=1)))"
      ]
    },
    {
      "cell_type": "markdown",
      "id": "CdtQOGFyUVSi",
      "metadata": {
        "id": "CdtQOGFyUVSi"
      },
      "source": [
        "## **Rede Neural Convolucional**"
      ]
    },
    {
      "cell_type": "code",
      "execution_count": null,
      "id": "tK5EynCJUSN9",
      "metadata": {
        "id": "tK5EynCJUSN9"
      },
      "outputs": [],
      "source": [
        "(X_train, Y_train), (X_test, Y_test) = keras.datasets.mnist.load_data()"
      ]
    },
    {
      "cell_type": "code",
      "execution_count": null,
      "id": "J94TCMFDUI95",
      "metadata": {
        "colab": {
          "base_uri": "https://localhost:8080/"
        },
        "id": "J94TCMFDUI95",
        "outputId": "ffcfe075-616f-4965-85c5-ab374d4c1fa8"
      },
      "outputs": [
        {
          "name": "stdout",
          "output_type": "stream",
          "text": [
            "(60000, 28, 28, 1)\n"
          ]
        }
      ],
      "source": [
        "# Redefinindo o formato\n",
        "X_train = X_train.reshape((X_train.shape[0], 28, 28, 1))\n",
        "X_test = X_test.reshape((X_test.shape[0], 28, 28, 1))\n",
        "\n",
        "print(X_train.shape)"
      ]
    },
    {
      "cell_type": "code",
      "execution_count": null,
      "id": "CnBCiFR_UZcu",
      "metadata": {
        "id": "CnBCiFR_UZcu"
      },
      "outputs": [],
      "source": [
        "# Normalização\n",
        "X_train = X_train/255\n",
        "X_test = X_test/255"
      ]
    },
    {
      "cell_type": "code",
      "execution_count": null,
      "id": "n2nImMbYUa4Q",
      "metadata": {
        "id": "n2nImMbYUa4Q"
      },
      "outputs": [],
      "source": [
        "\n",
        "dummy = OneHotEncoder(sparse = False)\n",
        "\n",
        "Y_train_hot = dummy.fit_transform(Y_train.reshape(-1, 1))\n",
        "Y_test_hot = dummy.fit_transform(Y_test.reshape(-1, 1))"
      ]
    },
    {
      "cell_type": "code",
      "execution_count": null,
      "id": "-PPvy8bRUcNO",
      "metadata": {
        "id": "-PPvy8bRUcNO"
      },
      "outputs": [],
      "source": [
        "model = keras.Sequential(\n",
        "    [\n",
        "        keras.Input(shape = (28, 28, 1)),\n",
        "        Conv2D(32, kernel_size=(3, 3), activation=\"relu\"),\n",
        "        MaxPooling2D(pool_size=(2, 2)),\n",
        "        Conv2D(64, kernel_size=(3, 3), activation=\"relu\"),\n",
        "        MaxPooling2D(pool_size=(2, 2)),\n",
        "        Flatten(),\n",
        "        Dropout(0.5),\n",
        "        Dense(10, activation=\"softmax\"), # numero de classes\n",
        "    ]\n",
        ")\n"
      ]
    },
    {
      "cell_type": "code",
      "execution_count": null,
      "id": "lchteAvaUdmi",
      "metadata": {
        "colab": {
          "base_uri": "https://localhost:8080/"
        },
        "id": "lchteAvaUdmi",
        "outputId": "51879151-22f8-44e0-8ba8-28173a6fbcf7"
      },
      "outputs": [
        {
          "name": "stdout",
          "output_type": "stream",
          "text": [
            "Model: \"sequential_1\"\n",
            "_________________________________________________________________\n",
            " Layer (type)                Output Shape              Param #   \n",
            "=================================================================\n",
            " conv2d (Conv2D)             (None, 26, 26, 32)        320       \n",
            "                                                                 \n",
            " max_pooling2d (MaxPooling2D  (None, 13, 13, 32)       0         \n",
            " )                                                               \n",
            "                                                                 \n",
            " conv2d_1 (Conv2D)           (None, 11, 11, 64)        18496     \n",
            "                                                                 \n",
            " max_pooling2d_1 (MaxPooling  (None, 5, 5, 64)         0         \n",
            " 2D)                                                             \n",
            "                                                                 \n",
            " flatten (Flatten)           (None, 1600)              0         \n",
            "                                                                 \n",
            " dropout_3 (Dropout)         (None, 1600)              0         \n",
            "                                                                 \n",
            " dense_4 (Dense)             (None, 10)                16010     \n",
            "                                                                 \n",
            "=================================================================\n",
            "Total params: 34,826\n",
            "Trainable params: 34,826\n",
            "Non-trainable params: 0\n",
            "_________________________________________________________________\n"
          ]
        }
      ],
      "source": [
        "model.summary()"
      ]
    },
    {
      "cell_type": "code",
      "execution_count": null,
      "id": "5jukcImTUge9",
      "metadata": {
        "colab": {
          "base_uri": "https://localhost:8080/"
        },
        "id": "5jukcImTUge9",
        "outputId": "6e486bd7-0fe2-485f-8811-b79901a1ea4f"
      },
      "outputs": [
        {
          "name": "stdout",
          "output_type": "stream",
          "text": [
            "Epoch 1/10\n",
            "1500/1500 [==============================] - 25s 16ms/step - loss: 0.2499 - accuracy: 0.9221 - val_loss: 0.0696 - val_accuracy: 0.9808\n",
            "Epoch 2/10\n",
            "1500/1500 [==============================] - 26s 17ms/step - loss: 0.0904 - accuracy: 0.9716 - val_loss: 0.0482 - val_accuracy: 0.9858\n",
            "Epoch 3/10\n",
            "1500/1500 [==============================] - 25s 17ms/step - loss: 0.0678 - accuracy: 0.9785 - val_loss: 0.0421 - val_accuracy: 0.9879\n",
            "Epoch 4/10\n",
            "1500/1500 [==============================] - 26s 18ms/step - loss: 0.0584 - accuracy: 0.9819 - val_loss: 0.0371 - val_accuracy: 0.9890\n",
            "Epoch 5/10\n",
            "1500/1500 [==============================] - 28s 19ms/step - loss: 0.0518 - accuracy: 0.9847 - val_loss: 0.0389 - val_accuracy: 0.9895\n",
            "Epoch 6/10\n",
            "1500/1500 [==============================] - 38s 25ms/step - loss: 0.0457 - accuracy: 0.9853 - val_loss: 0.0348 - val_accuracy: 0.9902\n",
            "Epoch 7/10\n",
            "1500/1500 [==============================] - 35s 23ms/step - loss: 0.0428 - accuracy: 0.9861 - val_loss: 0.0358 - val_accuracy: 0.9901\n",
            "Epoch 8/10\n",
            "1500/1500 [==============================] - 35s 23ms/step - loss: 0.0394 - accuracy: 0.9874 - val_loss: 0.0311 - val_accuracy: 0.9918\n",
            "Epoch 9/10\n",
            "1500/1500 [==============================] - 31s 21ms/step - loss: 0.0356 - accuracy: 0.9881 - val_loss: 0.0357 - val_accuracy: 0.9898\n",
            "Epoch 10/10\n",
            "1500/1500 [==============================] - 34s 23ms/step - loss: 0.0353 - accuracy: 0.9889 - val_loss: 0.0323 - val_accuracy: 0.9913\n"
          ]
        }
      ],
      "source": [
        "model.compile(loss='categorical_crossentropy', optimizer='adam', metrics=['accuracy'])\n",
        "history = model.fit(X_train, Y_train_hot, batch_size = 32, epochs = 10, validation_split = 0.2, verbose = 1)"
      ]
    },
    {
      "cell_type": "markdown",
      "id": "PdyvuP4HXhaQ",
      "metadata": {
        "id": "PdyvuP4HXhaQ"
      },
      "source": [
        "## **Erro e validação**"
      ]
    },
    {
      "cell_type": "code",
      "execution_count": null,
      "id": "1LlwQ8x6Ur3a",
      "metadata": {
        "colab": {
          "base_uri": "https://localhost:8080/"
        },
        "id": "1LlwQ8x6Ur3a",
        "outputId": "26253070-f1a2-4375-bf2c-85666d256cc8"
      },
      "outputs": [
        {
          "name": "stdout",
          "output_type": "stream",
          "text": [
            "Erro Treino: 0.018389640375971794\n",
            "Acurácia treino: 0.994350016117096\n"
          ]
        }
      ],
      "source": [
        "score = model.evaluate(X_train, Y_train_hot, verbose=0)\n",
        "print(\"Erro Treino:\", score[0])\n",
        "print(\"Acurácia treino:\", score[1])"
      ]
    },
    {
      "cell_type": "code",
      "execution_count": null,
      "id": "S7OvoRKWUtnl",
      "metadata": {
        "colab": {
          "base_uri": "https://localhost:8080/"
        },
        "id": "S7OvoRKWUtnl",
        "outputId": "5538606b-8ff9-4afb-dcb4-85cfa1061a93"
      },
      "outputs": [
        {
          "name": "stdout",
          "output_type": "stream",
          "text": [
            "Test loss: 0.028995126485824585\n",
            "Test accuracy: 0.9904000163078308\n"
          ]
        }
      ],
      "source": [
        "score = model.evaluate(X_test, Y_test_hot, verbose=0)\n",
        "print(\"Test loss:\", score[0])\n",
        "print(\"Test accuracy:\", score[1])"
      ]
    },
    {
      "cell_type": "code",
      "execution_count": null,
      "id": "z9m3wda9Uv_z",
      "metadata": {
        "colab": {
          "base_uri": "https://localhost:8080/",
          "height": 391
        },
        "id": "z9m3wda9Uv_z",
        "outputId": "4eaea6ad-ae86-4f81-cf76-5bd9f882a4db"
      },
      "outputs": [
        {
          "data": {
            "text/plain": [
              "[<matplotlib.lines.Line2D at 0x19632b0dac0>]"
            ]
          },
          "execution_count": 50,
          "metadata": {},
          "output_type": "execute_result"
        },
        {
          "data": {
            "image/png": "[encoded data removed]",
            "text/plain": [
              "<Figure size 648x432 with 1 Axes>"
            ]
          },
          "metadata": {
            "needs_background": "light"
          },
          "output_type": "display_data"
        }
      ],
      "source": [
        "vl = history.history['val_loss']\n",
        "tl = history.history['loss']\n",
        "\n",
        "plt.figure(figsize=(9, 6))\n",
        "plt.plot(vl, color = 'y')\n",
        "plt.plot(tl)"
      ]
    },
    {
      "cell_type": "markdown",
      "id": "Ad9w6P13X3PK",
      "metadata": {
        "id": "Ad9w6P13X3PK"
      },
      "source": [
        "## **Matriz de confusão**"
      ]
    },
    {
      "cell_type": "code",
      "execution_count": null,
      "id": "tn26x9JOXwqO",
      "metadata": {
        "id": "tn26x9JOXwqO"
      },
      "outputs": [],
      "source": [
        "Y_pred = model.predict(X_test)"
      ]
    },
    {
      "cell_type": "code",
      "execution_count": null,
      "id": "XOGEXgz5X5N3",
      "metadata": {
        "colab": {
          "base_uri": "https://localhost:8080/"
        },
        "id": "XOGEXgz5X5N3",
        "outputId": "a0aa0a37-16a3-454a-fc27-825f8936e8c4"
      },
      "outputs": [
        {
          "name": "stdout",
          "output_type": "stream",
          "text": [
            "[[ 977    0    1    0    0    1    4    0    3    1]\n",
            " [   0 1130    0    0    0    0    2    2    0    0]\n",
            " [   1    3 1027    3    0    0    1   10    1    1]\n",
            " [   0    1    0 1004    0    4    0    1    1    0]\n",
            " [   0    0    0    0  970    0    1    0    1    2]\n",
            " [   0    0    0    2    0  885    5    1    2    6]\n",
            " [   0    1    0    0    2    1  944    0    0    0]\n",
            " [   1    0    4    0    0    0    0 1011    0    4]\n",
            " [   1    0    0    1    2    0    1    1  962    1]\n",
            " [   0    0    0    0    8    1    0    2    4  994]]\n"
          ]
        }
      ],
      "source": [
        "print(confusion_matrix(np.argmax(Y_pred, axis=1), np.argmax(Y_test_hot, axis=1)))"
      ]
    },
    {
      "cell_type": "code",
      "execution_count": null,
      "id": "WVa6iMraX6rA",
      "metadata": {
        "colab": {
          "base_uri": "https://localhost:8080/"
        },
        "id": "WVa6iMraX6rA",
        "outputId": "682ec8cf-3e97-478a-a724-90ab481ad13b",
        "scrolled": true
      },
      "outputs": [
        {
          "name": "stdout",
          "output_type": "stream",
          "text": [
            "              precision    recall  f1-score   support\n",
            "\n",
            "           0       1.00      0.99      0.99       987\n",
            "           1       1.00      1.00      1.00      1134\n",
            "           2       1.00      0.98      0.99      1047\n",
            "           3       0.99      0.99      0.99      1011\n",
            "           4       0.99      1.00      0.99       974\n",
            "           5       0.99      0.98      0.99       901\n",
            "           6       0.99      1.00      0.99       948\n",
            "           7       0.98      0.99      0.99      1020\n",
            "           8       0.99      0.99      0.99       969\n",
            "           9       0.99      0.99      0.99      1009\n",
            "\n",
            "    accuracy                           0.99     10000\n",
            "   macro avg       0.99      0.99      0.99     10000\n",
            "weighted avg       0.99      0.99      0.99     10000\n",
            "\n"
          ]
        }
      ],
      "source": [
        "print(classification_report(np.argmax(Y_pred, axis=1), np.argmax(Y_test_hot, axis=1)))"
      ]
    },
    {
      "cell_type": "markdown",
      "id": "65532f0b",
      "metadata": {
        "id": "65532f0b"
      },
      "source": [
        "# Questão 3"
      ]
    },
    {
      "cell_type": "code",
      "execution_count": 2,
      "id": "63dfe5ad",
      "metadata": {
        "id": "63dfe5ad"
      },
      "outputs": [],
      "source": [
        "def unpickle(file):\n",
        "    import pickle\n",
        "    with open(file, 'rb') as fo:\n",
        "        dict = pickle.load(fo, encoding='bytes')\n",
        "    return dict\n",
        "def unpickle(file):\n",
        "    import pickle\n",
        "    with open(file, 'rb') as fo:\n",
        "        dict = pickle.load(fo, encoding='bytes')\n",
        "    return dict\n",
        "\n",
        "def tratament_images(image):\n",
        "    raw = np.array(image, dtype = float) / 255.0\n",
        "    images = raw.reshape([-1, 3, 32, 32]) # transformar em uma matriz pra plotar a imagem\n",
        "    images = images = images.transpose([0, 2, 3, 1]) # ajeita as colunas pra montar a imagem\n",
        "    return images\n",
        "\n",
        "\n",
        "def carregar_data(file):\n",
        "    data = unpickle(file)\n",
        "    images_array = data[b'data']\n",
        "    images = tratament_images(images_array)\n",
        "\n",
        "    labels = np.array(data[b'labels'])\n",
        "\n",
        "    return images, labels\n",
        "\n",
        "def test():\n",
        "    images_, labels_ = carregar_data(f'/content/drive/MyDrive/cifar-10-batches-py/test_batch')\n",
        "\n",
        "    return images_, labels_\n",
        "\n",
        "def train():\n",
        "    images = np.zeros(shape=[50000, 32, 32, 3], dtype = float)\n",
        "    labels = np.zeros(shape=[50000], dtype = int)\n",
        "\n",
        "    ponteiro_final = 0\n",
        "\n",
        "    for i in range(5):\n",
        "        images_, labels_ = carregar_data(f'/content/drive/MyDrive/cifar-10-batches-py/data_batch_{i+1}')\n",
        "    \n",
        "        final = ponteiro_final + 10000\n",
        "        images[ponteiro_final:final,:] = images_\n",
        "        labels[ponteiro_final:final] = labels_\n",
        "\n",
        "        ponteiro_final = final\n",
        "\n",
        "    return images, labels"
      ]
    },
    {
      "cell_type": "code",
      "source": [
        "from google.colab import drive\n",
        "drive.mount('/content/drive')"
      ],
      "metadata": {
        "colab": {
          "base_uri": "https://localhost:8080/"
        },
        "id": "e1XLigoktYSz",
        "outputId": "383f37be-9861-4aa3-97b5-eeb965d54dc8"
      },
      "id": "e1XLigoktYSz",
      "execution_count": 3,
      "outputs": [
        {
          "output_type": "stream",
          "name": "stdout",
          "text": [
            "Drive already mounted at /content/drive; to attempt to forcibly remount, call drive.mount(\"/content/drive\", force_remount=True).\n"
          ]
        }
      ]
    },
    {
      "cell_type": "code",
      "execution_count": 4,
      "id": "28d622a9",
      "metadata": {
        "colab": {
          "base_uri": "https://localhost:8080/"
        },
        "id": "28d622a9",
        "outputId": "18a8be72-d9e9-46c6-e490-7b52c31ec013"
      },
      "outputs": [
        {
          "output_type": "execute_result",
          "data": {
            "text/plain": [
              "{b'label_names': [b'airplane',\n",
              "  b'automobile',\n",
              "  b'bird',\n",
              "  b'cat',\n",
              "  b'deer',\n",
              "  b'dog',\n",
              "  b'frog',\n",
              "  b'horse',\n",
              "  b'ship',\n",
              "  b'truck'],\n",
              " b'num_cases_per_batch': 10000,\n",
              " b'num_vis': 3072}"
            ]
          },
          "metadata": {},
          "execution_count": 4
        }
      ],
      "source": [
        "data = unpickle(f'/content/drive/MyDrive/cifar-10-batches-py/batches.meta')\n",
        "data"
      ]
    },
    {
      "cell_type": "code",
      "source": [
        "name_labels = ['avião','carro','passaro','gato','viado','cachorro','sapo','cavalo','barco','caminhão']\n",
        "X_train, y_train = train()\n",
        "X_test, y_test = test()\n",
        "classe_one_hot_train = np_utils.to_categorical(y_train,10)\n",
        "classe_one_hot_test = np_utils.to_categorical(y_test,10)"
      ],
      "metadata": {
        "id": "7uXO0NqWtjlE"
      },
      "id": "7uXO0NqWtjlE",
      "execution_count": 5,
      "outputs": []
    },
    {
      "cell_type": "code",
      "source": [
        "W_grid = 5\n",
        "L_grid = 5\n",
        "axes = []\n",
        "fig = plt.figure(figsize=(17,12))\n",
        "\n",
        "for a in range(W_grid*L_grid):\n",
        "    axes.append( fig.add_subplot(W_grid, L_grid, a+1) )\n",
        "    subplot_title = (str(name_labels[y_train[a]]))\n",
        "    axes[-1].set_title(subplot_title)\n",
        "    axes[-1].axis('off')\n",
        "    plt.imshow(X_train[a])\n",
        "fig.tight_layout()"
      ],
      "metadata": {
        "colab": {
          "base_uri": "https://localhost:8080/",
          "height": 873
        },
        "id": "fFmmVpJNufiE",
        "outputId": "7464ba14-44ce-4129-9e1d-04d8e43f96de"
      },
      "id": "fFmmVpJNufiE",
      "execution_count": 6,
      "outputs": [
        {
          "output_type": "display_data",
          "data": {
            "text/plain": [
              "<Figure size 1224x864 with 25 Axes>"
            ],
            "image/png": "[encoded data removed]"
          },
          "metadata": {
            "needs_background": "light"
          }
        }
      ]
    },
    {
      "cell_type": "code",
      "source": [
        "cnn = models.Sequential()\n",
        "\n",
        "\n",
        "cnn.add(layers.Conv2D(128, (3,3), activation = 'relu', input_shape=(32,32,3)))\n",
        "\n",
        "cnn.add(layers.MaxPooling2D(2,2))\n",
        "\n",
        "cnn.add(layers.Conv2D(128, (3,3), activation = 'relu'))\n",
        "cnn.add(layers.Conv2D(96, (3,3), activation = 'relu'))\n",
        "cnn.add(layers.Conv2D(64, (3,3), activation = 'relu'))\n",
        "\n",
        "cnn.add(Dropout(0.5))\n",
        "\n",
        "cnn.add(layers.Conv2D(64, (3,3), activation = 'relu'))\n",
        "cnn.add(layers.MaxPooling2D(2,2))\n",
        "\n",
        "cnn.add(layers.Conv2D(32, (3,3), activation = 'relu'))\n",
        "\n",
        "#vetorização\n",
        "cnn.add(layers.Flatten())\n",
        "\n",
        "cnn.add(layers.Dense(64, activation = 'relu'))\n",
        "\n",
        "#10 neuronios de saida por causa das 10 classes\n",
        "cnn.add(layers.Dense(10, activation = 'softmax'))\n",
        "\n",
        "cnn.summary()\n",
        "\n",
        "\n"
      ],
      "metadata": {
        "colab": {
          "base_uri": "https://localhost:8080/"
        },
        "id": "uRSs8BFsw3YV",
        "outputId": "a903ff6b-e13d-4462-dc52-8b4101451e0b"
      },
      "id": "uRSs8BFsw3YV",
      "execution_count": 34,
      "outputs": [
        {
          "output_type": "stream",
          "name": "stdout",
          "text": [
            "Model: \"sequential_4\"\n",
            "_________________________________________________________________\n",
            " Layer (type)                Output Shape              Param #   \n",
            "=================================================================\n",
            " conv2d_24 (Conv2D)          (None, 30, 30, 128)       3584      \n",
            "                                                                 \n",
            " max_pooling2d_8 (MaxPooling  (None, 15, 15, 128)      0         \n",
            " 2D)                                                             \n",
            "                                                                 \n",
            " conv2d_25 (Conv2D)          (None, 13, 13, 128)       147584    \n",
            "                                                                 \n",
            " conv2d_26 (Conv2D)          (None, 11, 11, 96)        110688    \n",
            "                                                                 \n",
            " conv2d_27 (Conv2D)          (None, 9, 9, 64)          55360     \n",
            "                                                                 \n",
            " dropout_2 (Dropout)         (None, 9, 9, 64)          0         \n",
            "                                                                 \n",
            " conv2d_28 (Conv2D)          (None, 7, 7, 64)          36928     \n",
            "                                                                 \n",
            " max_pooling2d_9 (MaxPooling  (None, 3, 3, 64)         0         \n",
            " 2D)                                                             \n",
            "                                                                 \n",
            " conv2d_29 (Conv2D)          (None, 1, 1, 32)          18464     \n",
            "                                                                 \n",
            " flatten_4 (Flatten)         (None, 32)                0         \n",
            "                                                                 \n",
            " dense_8 (Dense)             (None, 64)                2112      \n",
            "                                                                 \n",
            " dense_9 (Dense)             (None, 10)                650       \n",
            "                                                                 \n",
            "=================================================================\n",
            "Total params: 375,370\n",
            "Trainable params: 375,370\n",
            "Non-trainable params: 0\n",
            "_________________________________________________________________\n"
          ]
        }
      ]
    },
    {
      "cell_type": "code",
      "source": [
        "cnn.compile(loss = 'categorical_crossentropy', optimizer=keras.optimizers.Adam(1e-4),\n",
        "            metrics = ['accuracy'])"
      ],
      "metadata": {
        "id": "ig0ZyVxmxggh"
      },
      "id": "ig0ZyVxmxggh",
      "execution_count": 35,
      "outputs": []
    },
    {
      "cell_type": "code",
      "source": [
        "epochs = 200\n",
        "history = cnn.fit(X_train, classe_one_hot_train, batch_size = 256, epochs = epochs,validation_data=(X_test,classe_one_hot_test))"
      ],
      "metadata": {
        "colab": {
          "base_uri": "https://localhost:8080/"
        },
        "id": "bD2M9ePVxiDJ",
        "outputId": "1c8fd084-f5b2-4745-8412-0f7b79436d4f"
      },
      "id": "bD2M9ePVxiDJ",
      "execution_count": 36,
      "outputs": [
        {
          "output_type": "stream",
          "name": "stdout",
          "text": [
            "Epoch 1/200\n",
            "196/196 [==============================] - 7s 34ms/step - loss: 2.1267 - accuracy: 0.1834 - val_loss: 1.9208 - val_accuracy: 0.2966\n",
            "Epoch 2/200\n",
            "196/196 [==============================] - 6s 33ms/step - loss: 1.8213 - accuracy: 0.3201 - val_loss: 1.7751 - val_accuracy: 0.3266\n",
            "Epoch 3/200\n",
            "196/196 [==============================] - 6s 33ms/step - loss: 1.7151 - accuracy: 0.3577 - val_loss: 1.6687 - val_accuracy: 0.3814\n",
            "Epoch 4/200\n",
            "196/196 [==============================] - 6s 33ms/step - loss: 1.6324 - accuracy: 0.3917 - val_loss: 1.5910 - val_accuracy: 0.4196\n",
            "Epoch 5/200\n",
            "196/196 [==============================] - 7s 33ms/step - loss: 1.5613 - accuracy: 0.4213 - val_loss: 1.5169 - val_accuracy: 0.4478\n",
            "Epoch 6/200\n",
            "196/196 [==============================] - 7s 33ms/step - loss: 1.5209 - accuracy: 0.4410 - val_loss: 1.4784 - val_accuracy: 0.4516\n",
            "Epoch 7/200\n",
            "196/196 [==============================] - 7s 34ms/step - loss: 1.4593 - accuracy: 0.4630 - val_loss: 1.4292 - val_accuracy: 0.4725\n",
            "Epoch 8/200\n",
            "196/196 [==============================] - 7s 34ms/step - loss: 1.4166 - accuracy: 0.4813 - val_loss: 1.4009 - val_accuracy: 0.4864\n",
            "Epoch 9/200\n",
            "196/196 [==============================] - 6s 33ms/step - loss: 1.3892 - accuracy: 0.4938 - val_loss: 1.4110 - val_accuracy: 0.4817\n",
            "Epoch 10/200\n",
            "196/196 [==============================] - 7s 34ms/step - loss: 1.3653 - accuracy: 0.5032 - val_loss: 1.3273 - val_accuracy: 0.5144\n",
            "Epoch 11/200\n",
            "196/196 [==============================] - 6s 33ms/step - loss: 1.3406 - accuracy: 0.5124 - val_loss: 1.3173 - val_accuracy: 0.5206\n",
            "Epoch 12/200\n",
            "196/196 [==============================] - 6s 33ms/step - loss: 1.3194 - accuracy: 0.5213 - val_loss: 1.3224 - val_accuracy: 0.5161\n",
            "Epoch 13/200\n",
            "196/196 [==============================] - 6s 33ms/step - loss: 1.2955 - accuracy: 0.5318 - val_loss: 1.2957 - val_accuracy: 0.5326\n",
            "Epoch 14/200\n",
            "196/196 [==============================] - 6s 33ms/step - loss: 1.2744 - accuracy: 0.5419 - val_loss: 1.2801 - val_accuracy: 0.5382\n",
            "Epoch 15/200\n",
            "196/196 [==============================] - 6s 33ms/step - loss: 1.2526 - accuracy: 0.5497 - val_loss: 1.3030 - val_accuracy: 0.5345\n",
            "Epoch 16/200\n",
            "196/196 [==============================] - 6s 33ms/step - loss: 1.2345 - accuracy: 0.5557 - val_loss: 1.2140 - val_accuracy: 0.5622\n",
            "Epoch 17/200\n",
            "196/196 [==============================] - 6s 33ms/step - loss: 1.2096 - accuracy: 0.5649 - val_loss: 1.2206 - val_accuracy: 0.5525\n",
            "Epoch 18/200\n",
            "196/196 [==============================] - 6s 33ms/step - loss: 1.1980 - accuracy: 0.5684 - val_loss: 1.1780 - val_accuracy: 0.5765\n",
            "Epoch 19/200\n",
            "196/196 [==============================] - 6s 33ms/step - loss: 1.1725 - accuracy: 0.5812 - val_loss: 1.1684 - val_accuracy: 0.5815\n",
            "Epoch 20/200\n",
            "196/196 [==============================] - 7s 34ms/step - loss: 1.1656 - accuracy: 0.5831 - val_loss: 1.1519 - val_accuracy: 0.5870\n",
            "Epoch 21/200\n",
            "196/196 [==============================] - 7s 34ms/step - loss: 1.1511 - accuracy: 0.5879 - val_loss: 1.1219 - val_accuracy: 0.5982\n",
            "Epoch 22/200\n",
            "196/196 [==============================] - 6s 33ms/step - loss: 1.1351 - accuracy: 0.5950 - val_loss: 1.1074 - val_accuracy: 0.6040\n",
            "Epoch 23/200\n",
            "196/196 [==============================] - 6s 33ms/step - loss: 1.1200 - accuracy: 0.5995 - val_loss: 1.1157 - val_accuracy: 0.6008\n",
            "Epoch 24/200\n",
            "196/196 [==============================] - 7s 34ms/step - loss: 1.1056 - accuracy: 0.6058 - val_loss: 1.0862 - val_accuracy: 0.6114\n",
            "Epoch 25/200\n",
            "196/196 [==============================] - 6s 33ms/step - loss: 1.0947 - accuracy: 0.6109 - val_loss: 1.0999 - val_accuracy: 0.6053\n",
            "Epoch 26/200\n",
            "196/196 [==============================] - 6s 33ms/step - loss: 1.0833 - accuracy: 0.6127 - val_loss: 1.0747 - val_accuracy: 0.6186\n",
            "Epoch 27/200\n",
            "196/196 [==============================] - 6s 33ms/step - loss: 1.0780 - accuracy: 0.6152 - val_loss: 1.0749 - val_accuracy: 0.6166\n",
            "Epoch 28/200\n",
            "196/196 [==============================] - 6s 33ms/step - loss: 1.0560 - accuracy: 0.6227 - val_loss: 1.0777 - val_accuracy: 0.6139\n",
            "Epoch 29/200\n",
            "196/196 [==============================] - 6s 33ms/step - loss: 1.0473 - accuracy: 0.6275 - val_loss: 1.0692 - val_accuracy: 0.6167\n",
            "Epoch 30/200\n",
            "196/196 [==============================] - 6s 33ms/step - loss: 1.0464 - accuracy: 0.6295 - val_loss: 1.0548 - val_accuracy: 0.6214\n",
            "Epoch 31/200\n",
            "196/196 [==============================] - 6s 33ms/step - loss: 1.0342 - accuracy: 0.6308 - val_loss: 1.0270 - val_accuracy: 0.6311\n",
            "Epoch 32/200\n",
            "196/196 [==============================] - 6s 33ms/step - loss: 1.0176 - accuracy: 0.6388 - val_loss: 1.0375 - val_accuracy: 0.6294\n",
            "Epoch 33/200\n",
            "196/196 [==============================] - 6s 33ms/step - loss: 1.0083 - accuracy: 0.6429 - val_loss: 1.0202 - val_accuracy: 0.6353\n",
            "Epoch 34/200\n",
            "196/196 [==============================] - 6s 33ms/step - loss: 1.0021 - accuracy: 0.6441 - val_loss: 1.0028 - val_accuracy: 0.6420\n",
            "Epoch 35/200\n",
            "196/196 [==============================] - 6s 33ms/step - loss: 0.9963 - accuracy: 0.6484 - val_loss: 0.9981 - val_accuracy: 0.6432\n",
            "Epoch 36/200\n",
            "196/196 [==============================] - 6s 33ms/step - loss: 0.9829 - accuracy: 0.6513 - val_loss: 1.0003 - val_accuracy: 0.6388\n",
            "Epoch 37/200\n",
            "196/196 [==============================] - 7s 34ms/step - loss: 0.9755 - accuracy: 0.6564 - val_loss: 0.9729 - val_accuracy: 0.6521\n",
            "Epoch 38/200\n",
            "196/196 [==============================] - 7s 34ms/step - loss: 0.9632 - accuracy: 0.6589 - val_loss: 1.0026 - val_accuracy: 0.6423\n",
            "Epoch 39/200\n",
            "196/196 [==============================] - 6s 33ms/step - loss: 0.9533 - accuracy: 0.6594 - val_loss: 0.9951 - val_accuracy: 0.6430\n",
            "Epoch 40/200\n",
            "196/196 [==============================] - 6s 33ms/step - loss: 0.9485 - accuracy: 0.6635 - val_loss: 0.9683 - val_accuracy: 0.6537\n",
            "Epoch 41/200\n",
            "196/196 [==============================] - 6s 33ms/step - loss: 0.9403 - accuracy: 0.6658 - val_loss: 0.9565 - val_accuracy: 0.6596\n",
            "Epoch 42/200\n",
            "196/196 [==============================] - 6s 33ms/step - loss: 0.9342 - accuracy: 0.6678 - val_loss: 0.9460 - val_accuracy: 0.6618\n",
            "Epoch 43/200\n",
            "196/196 [==============================] - 6s 33ms/step - loss: 0.9285 - accuracy: 0.6717 - val_loss: 0.9657 - val_accuracy: 0.6503\n",
            "Epoch 44/200\n",
            "196/196 [==============================] - 7s 34ms/step - loss: 0.9178 - accuracy: 0.6751 - val_loss: 0.9204 - val_accuracy: 0.6706\n",
            "Epoch 45/200\n",
            "196/196 [==============================] - 6s 33ms/step - loss: 0.9151 - accuracy: 0.6760 - val_loss: 0.9125 - val_accuracy: 0.6751\n",
            "Epoch 46/200\n",
            "196/196 [==============================] - 6s 33ms/step - loss: 0.9047 - accuracy: 0.6806 - val_loss: 0.9285 - val_accuracy: 0.6697\n",
            "Epoch 47/200\n",
            "196/196 [==============================] - 6s 33ms/step - loss: 0.8974 - accuracy: 0.6812 - val_loss: 0.9297 - val_accuracy: 0.6678\n",
            "Epoch 48/200\n",
            "196/196 [==============================] - 6s 33ms/step - loss: 0.8920 - accuracy: 0.6838 - val_loss: 0.9256 - val_accuracy: 0.6736\n",
            "Epoch 49/200\n",
            "196/196 [==============================] - 6s 33ms/step - loss: 0.8826 - accuracy: 0.6879 - val_loss: 0.9304 - val_accuracy: 0.6693\n",
            "Epoch 50/200\n",
            "196/196 [==============================] - 6s 33ms/step - loss: 0.8814 - accuracy: 0.6892 - val_loss: 0.8844 - val_accuracy: 0.6840\n",
            "Epoch 51/200\n",
            "196/196 [==============================] - 6s 33ms/step - loss: 0.8704 - accuracy: 0.6907 - val_loss: 0.8971 - val_accuracy: 0.6774\n",
            "Epoch 52/200\n",
            "196/196 [==============================] - 6s 33ms/step - loss: 0.8619 - accuracy: 0.6954 - val_loss: 0.9091 - val_accuracy: 0.6796\n",
            "Epoch 53/200\n",
            "196/196 [==============================] - 6s 33ms/step - loss: 0.8556 - accuracy: 0.6981 - val_loss: 0.9019 - val_accuracy: 0.6754\n",
            "Epoch 54/200\n",
            "196/196 [==============================] - 6s 33ms/step - loss: 0.8534 - accuracy: 0.6976 - val_loss: 0.8668 - val_accuracy: 0.6919\n",
            "Epoch 55/200\n",
            "196/196 [==============================] - 6s 33ms/step - loss: 0.8399 - accuracy: 0.7028 - val_loss: 0.8524 - val_accuracy: 0.6981\n",
            "Epoch 56/200\n",
            "196/196 [==============================] - 6s 33ms/step - loss: 0.8376 - accuracy: 0.7050 - val_loss: 0.8862 - val_accuracy: 0.6888\n",
            "Epoch 57/200\n",
            "196/196 [==============================] - 6s 33ms/step - loss: 0.8292 - accuracy: 0.7067 - val_loss: 0.8744 - val_accuracy: 0.6957\n",
            "Epoch 58/200\n",
            "196/196 [==============================] - 7s 33ms/step - loss: 0.8247 - accuracy: 0.7092 - val_loss: 0.8482 - val_accuracy: 0.7032\n",
            "Epoch 59/200\n",
            "196/196 [==============================] - 7s 34ms/step - loss: 0.8236 - accuracy: 0.7099 - val_loss: 0.9087 - val_accuracy: 0.6798\n",
            "Epoch 60/200\n",
            "196/196 [==============================] - 6s 33ms/step - loss: 0.8176 - accuracy: 0.7105 - val_loss: 0.8366 - val_accuracy: 0.7066\n",
            "Epoch 61/200\n",
            "196/196 [==============================] - 6s 33ms/step - loss: 0.8046 - accuracy: 0.7184 - val_loss: 0.8419 - val_accuracy: 0.7034\n",
            "Epoch 62/200\n",
            "196/196 [==============================] - 7s 34ms/step - loss: 0.8078 - accuracy: 0.7155 - val_loss: 0.8458 - val_accuracy: 0.7036\n",
            "Epoch 63/200\n",
            "196/196 [==============================] - 6s 33ms/step - loss: 0.7966 - accuracy: 0.7179 - val_loss: 0.8188 - val_accuracy: 0.7114\n",
            "Epoch 64/200\n",
            "196/196 [==============================] - 6s 33ms/step - loss: 0.7873 - accuracy: 0.7244 - val_loss: 0.8096 - val_accuracy: 0.7154\n",
            "Epoch 65/200\n",
            "196/196 [==============================] - 7s 34ms/step - loss: 0.7829 - accuracy: 0.7264 - val_loss: 0.8173 - val_accuracy: 0.7122\n",
            "Epoch 66/200\n",
            "196/196 [==============================] - 7s 34ms/step - loss: 0.7831 - accuracy: 0.7239 - val_loss: 0.8148 - val_accuracy: 0.7137\n",
            "Epoch 67/200\n",
            "196/196 [==============================] - 6s 33ms/step - loss: 0.7733 - accuracy: 0.7301 - val_loss: 0.8289 - val_accuracy: 0.7094\n",
            "Epoch 68/200\n",
            "196/196 [==============================] - 6s 33ms/step - loss: 0.7721 - accuracy: 0.7300 - val_loss: 0.8061 - val_accuracy: 0.7158\n",
            "Epoch 69/200\n",
            "196/196 [==============================] - 6s 33ms/step - loss: 0.7656 - accuracy: 0.7315 - val_loss: 0.8194 - val_accuracy: 0.7136\n",
            "Epoch 70/200\n",
            "196/196 [==============================] - 7s 34ms/step - loss: 0.7561 - accuracy: 0.7347 - val_loss: 0.8482 - val_accuracy: 0.7040\n",
            "Epoch 71/200\n",
            "196/196 [==============================] - 6s 33ms/step - loss: 0.7523 - accuracy: 0.7356 - val_loss: 0.8074 - val_accuracy: 0.7148\n",
            "Epoch 72/200\n",
            "196/196 [==============================] - 7s 34ms/step - loss: 0.7494 - accuracy: 0.7364 - val_loss: 0.8278 - val_accuracy: 0.7092\n",
            "Epoch 73/200\n",
            "196/196 [==============================] - 6s 33ms/step - loss: 0.7459 - accuracy: 0.7373 - val_loss: 0.7785 - val_accuracy: 0.7285\n",
            "Epoch 74/200\n",
            "196/196 [==============================] - 6s 33ms/step - loss: 0.7401 - accuracy: 0.7399 - val_loss: 0.7946 - val_accuracy: 0.7233\n",
            "Epoch 75/200\n",
            "196/196 [==============================] - 6s 33ms/step - loss: 0.7344 - accuracy: 0.7431 - val_loss: 0.7723 - val_accuracy: 0.7334\n",
            "Epoch 76/200\n",
            "196/196 [==============================] - 7s 34ms/step - loss: 0.7274 - accuracy: 0.7442 - val_loss: 0.7702 - val_accuracy: 0.7302\n",
            "Epoch 77/200\n",
            "196/196 [==============================] - 7s 33ms/step - loss: 0.7235 - accuracy: 0.7451 - val_loss: 0.7662 - val_accuracy: 0.7369\n",
            "Epoch 78/200\n",
            "196/196 [==============================] - 6s 33ms/step - loss: 0.7127 - accuracy: 0.7502 - val_loss: 0.7616 - val_accuracy: 0.7326\n",
            "Epoch 79/200\n",
            "196/196 [==============================] - 6s 33ms/step - loss: 0.7108 - accuracy: 0.7496 - val_loss: 0.7943 - val_accuracy: 0.7255\n",
            "Epoch 80/200\n",
            "196/196 [==============================] - 6s 33ms/step - loss: 0.7113 - accuracy: 0.7501 - val_loss: 0.7457 - val_accuracy: 0.7410\n",
            "Epoch 81/200\n",
            "196/196 [==============================] - 6s 33ms/step - loss: 0.7043 - accuracy: 0.7527 - val_loss: 0.7677 - val_accuracy: 0.7325\n",
            "Epoch 82/200\n",
            "196/196 [==============================] - 6s 33ms/step - loss: 0.7033 - accuracy: 0.7545 - val_loss: 0.7620 - val_accuracy: 0.7366\n",
            "Epoch 83/200\n",
            "196/196 [==============================] - 7s 34ms/step - loss: 0.6936 - accuracy: 0.7566 - val_loss: 0.7614 - val_accuracy: 0.7327\n",
            "Epoch 84/200\n",
            "196/196 [==============================] - 6s 33ms/step - loss: 0.6963 - accuracy: 0.7569 - val_loss: 0.7392 - val_accuracy: 0.7449\n",
            "Epoch 85/200\n",
            "196/196 [==============================] - 6s 33ms/step - loss: 0.6844 - accuracy: 0.7603 - val_loss: 0.7420 - val_accuracy: 0.7442\n",
            "Epoch 86/200\n",
            "196/196 [==============================] - 6s 33ms/step - loss: 0.6850 - accuracy: 0.7588 - val_loss: 0.7842 - val_accuracy: 0.7264\n",
            "Epoch 87/200\n",
            "196/196 [==============================] - 7s 33ms/step - loss: 0.6787 - accuracy: 0.7616 - val_loss: 0.7393 - val_accuracy: 0.7415\n",
            "Epoch 88/200\n",
            "196/196 [==============================] - 6s 33ms/step - loss: 0.6751 - accuracy: 0.7638 - val_loss: 0.7664 - val_accuracy: 0.7355\n",
            "Epoch 89/200\n",
            "196/196 [==============================] - 6s 33ms/step - loss: 0.6751 - accuracy: 0.7627 - val_loss: 0.7372 - val_accuracy: 0.7430\n",
            "Epoch 90/200\n",
            "196/196 [==============================] - 7s 34ms/step - loss: 0.6598 - accuracy: 0.7671 - val_loss: 0.7204 - val_accuracy: 0.7535\n",
            "Epoch 91/200\n",
            "196/196 [==============================] - 7s 33ms/step - loss: 0.6639 - accuracy: 0.7672 - val_loss: 0.7206 - val_accuracy: 0.7516\n",
            "Epoch 92/200\n",
            "196/196 [==============================] - 6s 33ms/step - loss: 0.6582 - accuracy: 0.7690 - val_loss: 0.7721 - val_accuracy: 0.7296\n",
            "Epoch 93/200\n",
            "196/196 [==============================] - 7s 33ms/step - loss: 0.6535 - accuracy: 0.7696 - val_loss: 0.7186 - val_accuracy: 0.7516\n",
            "Epoch 94/200\n",
            "196/196 [==============================] - 7s 33ms/step - loss: 0.6466 - accuracy: 0.7728 - val_loss: 0.7117 - val_accuracy: 0.7546\n",
            "Epoch 95/200\n",
            "196/196 [==============================] - 7s 33ms/step - loss: 0.6478 - accuracy: 0.7731 - val_loss: 0.7161 - val_accuracy: 0.7501\n",
            "Epoch 96/200\n",
            "196/196 [==============================] - 7s 33ms/step - loss: 0.6397 - accuracy: 0.7760 - val_loss: 0.7249 - val_accuracy: 0.7488\n",
            "Epoch 97/200\n",
            "196/196 [==============================] - 6s 33ms/step - loss: 0.6359 - accuracy: 0.7765 - val_loss: 0.7514 - val_accuracy: 0.7419\n",
            "Epoch 98/200\n",
            "196/196 [==============================] - 6s 33ms/step - loss: 0.6385 - accuracy: 0.7751 - val_loss: 0.7113 - val_accuracy: 0.7524\n",
            "Epoch 99/200\n",
            "196/196 [==============================] - 7s 33ms/step - loss: 0.6332 - accuracy: 0.7764 - val_loss: 0.7389 - val_accuracy: 0.7406\n",
            "Epoch 100/200\n",
            "196/196 [==============================] - 6s 33ms/step - loss: 0.6271 - accuracy: 0.7811 - val_loss: 0.7118 - val_accuracy: 0.7520\n",
            "Epoch 101/200\n",
            "196/196 [==============================] - 7s 33ms/step - loss: 0.6261 - accuracy: 0.7787 - val_loss: 0.6995 - val_accuracy: 0.7534\n",
            "Epoch 102/200\n",
            "196/196 [==============================] - 7s 33ms/step - loss: 0.6187 - accuracy: 0.7839 - val_loss: 0.7060 - val_accuracy: 0.7578\n",
            "Epoch 103/200\n",
            "196/196 [==============================] - 7s 33ms/step - loss: 0.6117 - accuracy: 0.7857 - val_loss: 0.7007 - val_accuracy: 0.7584\n",
            "Epoch 104/200\n",
            "196/196 [==============================] - 7s 33ms/step - loss: 0.6066 - accuracy: 0.7877 - val_loss: 0.7005 - val_accuracy: 0.7593\n",
            "Epoch 105/200\n",
            "196/196 [==============================] - 6s 33ms/step - loss: 0.6134 - accuracy: 0.7838 - val_loss: 0.7254 - val_accuracy: 0.7479\n",
            "Epoch 106/200\n",
            "196/196 [==============================] - 6s 33ms/step - loss: 0.6043 - accuracy: 0.7881 - val_loss: 0.7372 - val_accuracy: 0.7470\n",
            "Epoch 107/200\n",
            "196/196 [==============================] - 7s 33ms/step - loss: 0.6001 - accuracy: 0.7886 - val_loss: 0.7036 - val_accuracy: 0.7561\n",
            "Epoch 108/200\n",
            "196/196 [==============================] - 7s 33ms/step - loss: 0.5932 - accuracy: 0.7919 - val_loss: 0.6777 - val_accuracy: 0.7676\n",
            "Epoch 109/200\n",
            "196/196 [==============================] - 6s 33ms/step - loss: 0.5876 - accuracy: 0.7931 - val_loss: 0.6874 - val_accuracy: 0.7604\n",
            "Epoch 110/200\n",
            "196/196 [==============================] - 7s 33ms/step - loss: 0.5886 - accuracy: 0.7939 - val_loss: 0.6922 - val_accuracy: 0.7635\n",
            "Epoch 111/200\n",
            "196/196 [==============================] - 7s 33ms/step - loss: 0.5849 - accuracy: 0.7932 - val_loss: 0.7022 - val_accuracy: 0.7578\n",
            "Epoch 112/200\n",
            "196/196 [==============================] - 6s 33ms/step - loss: 0.5781 - accuracy: 0.7961 - val_loss: 0.7130 - val_accuracy: 0.7559\n",
            "Epoch 113/200\n",
            "196/196 [==============================] - 7s 33ms/step - loss: 0.5812 - accuracy: 0.7952 - val_loss: 0.6927 - val_accuracy: 0.7596\n",
            "Epoch 114/200\n",
            "196/196 [==============================] - 7s 33ms/step - loss: 0.5798 - accuracy: 0.7963 - val_loss: 0.6965 - val_accuracy: 0.7644\n",
            "Epoch 115/200\n",
            "196/196 [==============================] - 7s 33ms/step - loss: 0.5674 - accuracy: 0.8002 - val_loss: 0.6961 - val_accuracy: 0.7617\n",
            "Epoch 116/200\n",
            "196/196 [==============================] - 6s 33ms/step - loss: 0.5654 - accuracy: 0.7992 - val_loss: 0.7011 - val_accuracy: 0.7594\n",
            "Epoch 117/200\n",
            "196/196 [==============================] - 7s 34ms/step - loss: 0.5613 - accuracy: 0.8027 - val_loss: 0.6706 - val_accuracy: 0.7708\n",
            "Epoch 118/200\n",
            "196/196 [==============================] - 6s 33ms/step - loss: 0.5619 - accuracy: 0.8018 - val_loss: 0.6804 - val_accuracy: 0.7652\n",
            "Epoch 119/200\n",
            "196/196 [==============================] - 7s 34ms/step - loss: 0.5637 - accuracy: 0.8020 - val_loss: 0.6747 - val_accuracy: 0.7695\n",
            "Epoch 120/200\n",
            "196/196 [==============================] - 7s 33ms/step - loss: 0.5526 - accuracy: 0.8042 - val_loss: 0.7011 - val_accuracy: 0.7610\n",
            "Epoch 121/200\n",
            "196/196 [==============================] - 7s 33ms/step - loss: 0.5492 - accuracy: 0.8068 - val_loss: 0.6894 - val_accuracy: 0.7659\n",
            "Epoch 122/200\n",
            "196/196 [==============================] - 6s 33ms/step - loss: 0.5475 - accuracy: 0.8071 - val_loss: 0.6571 - val_accuracy: 0.7737\n",
            "Epoch 123/200\n",
            "196/196 [==============================] - 7s 34ms/step - loss: 0.5441 - accuracy: 0.8102 - val_loss: 0.6709 - val_accuracy: 0.7691\n",
            "Epoch 124/200\n",
            "196/196 [==============================] - 6s 33ms/step - loss: 0.5428 - accuracy: 0.8097 - val_loss: 0.6889 - val_accuracy: 0.7619\n",
            "Epoch 125/200\n",
            "196/196 [==============================] - 7s 33ms/step - loss: 0.5408 - accuracy: 0.8096 - val_loss: 0.6959 - val_accuracy: 0.7623\n",
            "Epoch 126/200\n",
            "196/196 [==============================] - 6s 33ms/step - loss: 0.5399 - accuracy: 0.8118 - val_loss: 0.6872 - val_accuracy: 0.7635\n",
            "Epoch 127/200\n",
            "196/196 [==============================] - 7s 33ms/step - loss: 0.5383 - accuracy: 0.8105 - val_loss: 0.6568 - val_accuracy: 0.7746\n",
            "Epoch 128/200\n",
            "196/196 [==============================] - 7s 33ms/step - loss: 0.5287 - accuracy: 0.8130 - val_loss: 0.6664 - val_accuracy: 0.7708\n",
            "Epoch 129/200\n",
            "196/196 [==============================] - 7s 33ms/step - loss: 0.5265 - accuracy: 0.8142 - val_loss: 0.6657 - val_accuracy: 0.7731\n",
            "Epoch 130/200\n",
            "196/196 [==============================] - 6s 33ms/step - loss: 0.5284 - accuracy: 0.8135 - val_loss: 0.6643 - val_accuracy: 0.7741\n",
            "Epoch 131/200\n",
            "196/196 [==============================] - 7s 34ms/step - loss: 0.5228 - accuracy: 0.8165 - val_loss: 0.6685 - val_accuracy: 0.7717\n",
            "Epoch 132/200\n",
            "196/196 [==============================] - 7s 33ms/step - loss: 0.5206 - accuracy: 0.8174 - val_loss: 0.6450 - val_accuracy: 0.7778\n",
            "Epoch 133/200\n",
            "196/196 [==============================] - 7s 33ms/step - loss: 0.5116 - accuracy: 0.8201 - val_loss: 0.6689 - val_accuracy: 0.7722\n",
            "Epoch 134/200\n",
            "196/196 [==============================] - 7s 34ms/step - loss: 0.5154 - accuracy: 0.8187 - val_loss: 0.6516 - val_accuracy: 0.7779\n",
            "Epoch 135/200\n",
            "196/196 [==============================] - 7s 33ms/step - loss: 0.5108 - accuracy: 0.8186 - val_loss: 0.6632 - val_accuracy: 0.7747\n",
            "Epoch 136/200\n",
            "196/196 [==============================] - 6s 33ms/step - loss: 0.5081 - accuracy: 0.8205 - val_loss: 0.6420 - val_accuracy: 0.7786\n",
            "Epoch 137/200\n",
            "196/196 [==============================] - 7s 33ms/step - loss: 0.5027 - accuracy: 0.8212 - val_loss: 0.7139 - val_accuracy: 0.7528\n",
            "Epoch 138/200\n",
            "196/196 [==============================] - 7s 33ms/step - loss: 0.4979 - accuracy: 0.8242 - val_loss: 0.6487 - val_accuracy: 0.7786\n",
            "Epoch 139/200\n",
            "196/196 [==============================] - 7s 34ms/step - loss: 0.4951 - accuracy: 0.8257 - val_loss: 0.6492 - val_accuracy: 0.7800\n",
            "Epoch 140/200\n",
            "196/196 [==============================] - 7s 33ms/step - loss: 0.4993 - accuracy: 0.8247 - val_loss: 0.6382 - val_accuracy: 0.7825\n",
            "Epoch 141/200\n",
            "196/196 [==============================] - 7s 33ms/step - loss: 0.4852 - accuracy: 0.8286 - val_loss: 0.6590 - val_accuracy: 0.7776\n",
            "Epoch 142/200\n",
            "196/196 [==============================] - 6s 33ms/step - loss: 0.4898 - accuracy: 0.8275 - val_loss: 0.6572 - val_accuracy: 0.7736\n",
            "Epoch 143/200\n",
            "196/196 [==============================] - 7s 34ms/step - loss: 0.4883 - accuracy: 0.8281 - val_loss: 0.6564 - val_accuracy: 0.7739\n",
            "Epoch 144/200\n",
            "196/196 [==============================] - 6s 33ms/step - loss: 0.4863 - accuracy: 0.8299 - val_loss: 0.6368 - val_accuracy: 0.7855\n",
            "Epoch 145/200\n",
            "196/196 [==============================] - 7s 33ms/step - loss: 0.4766 - accuracy: 0.8314 - val_loss: 0.6493 - val_accuracy: 0.7779\n",
            "Epoch 146/200\n",
            "196/196 [==============================] - 7s 33ms/step - loss: 0.4772 - accuracy: 0.8319 - val_loss: 0.6425 - val_accuracy: 0.7843\n",
            "Epoch 147/200\n",
            "196/196 [==============================] - 6s 33ms/step - loss: 0.4722 - accuracy: 0.8349 - val_loss: 0.6525 - val_accuracy: 0.7787\n",
            "Epoch 148/200\n",
            "196/196 [==============================] - 7s 34ms/step - loss: 0.4680 - accuracy: 0.8350 - val_loss: 0.6705 - val_accuracy: 0.7763\n",
            "Epoch 149/200\n",
            "196/196 [==============================] - 6s 33ms/step - loss: 0.4738 - accuracy: 0.8334 - val_loss: 0.6364 - val_accuracy: 0.7813\n",
            "Epoch 150/200\n",
            "196/196 [==============================] - 6s 33ms/step - loss: 0.4712 - accuracy: 0.8350 - val_loss: 0.6576 - val_accuracy: 0.7749\n",
            "Epoch 151/200\n",
            "196/196 [==============================] - 7s 34ms/step - loss: 0.4666 - accuracy: 0.8371 - val_loss: 0.6479 - val_accuracy: 0.7805\n",
            "Epoch 152/200\n",
            "196/196 [==============================] - 6s 33ms/step - loss: 0.4588 - accuracy: 0.8377 - val_loss: 0.6371 - val_accuracy: 0.7835\n",
            "Epoch 153/200\n",
            "196/196 [==============================] - 6s 33ms/step - loss: 0.4546 - accuracy: 0.8414 - val_loss: 0.6426 - val_accuracy: 0.7796\n",
            "Epoch 154/200\n",
            "196/196 [==============================] - 6s 33ms/step - loss: 0.4515 - accuracy: 0.8412 - val_loss: 0.6303 - val_accuracy: 0.7871\n",
            "Epoch 155/200\n",
            "196/196 [==============================] - 6s 33ms/step - loss: 0.4504 - accuracy: 0.8400 - val_loss: 0.6528 - val_accuracy: 0.7812\n",
            "Epoch 156/200\n",
            "196/196 [==============================] - 6s 33ms/step - loss: 0.4469 - accuracy: 0.8420 - val_loss: 0.6357 - val_accuracy: 0.7858\n",
            "Epoch 157/200\n",
            "196/196 [==============================] - 6s 33ms/step - loss: 0.4560 - accuracy: 0.8397 - val_loss: 0.6271 - val_accuracy: 0.7870\n",
            "Epoch 158/200\n",
            "196/196 [==============================] - 7s 33ms/step - loss: 0.4451 - accuracy: 0.8438 - val_loss: 0.6549 - val_accuracy: 0.7827\n",
            "Epoch 159/200\n",
            "196/196 [==============================] - 6s 33ms/step - loss: 0.4421 - accuracy: 0.8441 - val_loss: 0.6828 - val_accuracy: 0.7737\n",
            "Epoch 160/200\n",
            "196/196 [==============================] - 6s 33ms/step - loss: 0.4436 - accuracy: 0.8426 - val_loss: 0.6620 - val_accuracy: 0.7755\n",
            "Epoch 161/200\n",
            "196/196 [==============================] - 7s 33ms/step - loss: 0.4398 - accuracy: 0.8454 - val_loss: 0.6320 - val_accuracy: 0.7914\n",
            "Epoch 162/200\n",
            "196/196 [==============================] - 6s 33ms/step - loss: 0.4386 - accuracy: 0.8462 - val_loss: 0.6474 - val_accuracy: 0.7789\n",
            "Epoch 163/200\n",
            "196/196 [==============================] - 7s 33ms/step - loss: 0.4316 - accuracy: 0.8475 - val_loss: 0.6488 - val_accuracy: 0.7822\n",
            "Epoch 164/200\n",
            "196/196 [==============================] - 7s 33ms/step - loss: 0.4313 - accuracy: 0.8474 - val_loss: 0.6265 - val_accuracy: 0.7913\n",
            "Epoch 165/200\n",
            "196/196 [==============================] - 7s 34ms/step - loss: 0.4248 - accuracy: 0.8508 - val_loss: 0.6411 - val_accuracy: 0.7844\n",
            "Epoch 166/200\n",
            "196/196 [==============================] - 6s 33ms/step - loss: 0.4291 - accuracy: 0.8488 - val_loss: 0.6254 - val_accuracy: 0.7876\n",
            "Epoch 167/200\n",
            "196/196 [==============================] - 6s 33ms/step - loss: 0.4267 - accuracy: 0.8493 - val_loss: 0.6252 - val_accuracy: 0.7914\n",
            "Epoch 168/200\n",
            "196/196 [==============================] - 7s 33ms/step - loss: 0.4199 - accuracy: 0.8528 - val_loss: 0.6539 - val_accuracy: 0.7794\n",
            "Epoch 169/200\n",
            "196/196 [==============================] - 6s 33ms/step - loss: 0.4187 - accuracy: 0.8529 - val_loss: 0.6132 - val_accuracy: 0.7924\n",
            "Epoch 170/200\n",
            "196/196 [==============================] - 6s 33ms/step - loss: 0.4144 - accuracy: 0.8541 - val_loss: 0.6339 - val_accuracy: 0.7876\n",
            "Epoch 171/200\n",
            "196/196 [==============================] - 6s 33ms/step - loss: 0.4088 - accuracy: 0.8568 - val_loss: 0.6359 - val_accuracy: 0.7885\n",
            "Epoch 172/200\n",
            "196/196 [==============================] - 6s 33ms/step - loss: 0.4195 - accuracy: 0.8510 - val_loss: 0.6362 - val_accuracy: 0.7849\n",
            "Epoch 173/200\n",
            "196/196 [==============================] - 6s 33ms/step - loss: 0.4070 - accuracy: 0.8561 - val_loss: 0.6374 - val_accuracy: 0.7892\n",
            "Epoch 174/200\n",
            "196/196 [==============================] - 6s 33ms/step - loss: 0.4081 - accuracy: 0.8563 - val_loss: 0.6331 - val_accuracy: 0.7897\n",
            "Epoch 175/200\n",
            "196/196 [==============================] - 7s 34ms/step - loss: 0.3998 - accuracy: 0.8596 - val_loss: 0.6466 - val_accuracy: 0.7868\n",
            "Epoch 176/200\n",
            "196/196 [==============================] - 6s 33ms/step - loss: 0.4051 - accuracy: 0.8568 - val_loss: 0.6334 - val_accuracy: 0.7911\n",
            "Epoch 177/200\n",
            "196/196 [==============================] - 6s 33ms/step - loss: 0.3974 - accuracy: 0.8597 - val_loss: 0.6380 - val_accuracy: 0.7888\n",
            "Epoch 178/200\n",
            "196/196 [==============================] - 6s 33ms/step - loss: 0.3969 - accuracy: 0.8593 - val_loss: 0.6370 - val_accuracy: 0.7898\n",
            "Epoch 179/200\n",
            "196/196 [==============================] - 7s 34ms/step - loss: 0.4014 - accuracy: 0.8596 - val_loss: 0.6200 - val_accuracy: 0.7907\n",
            "Epoch 180/200\n",
            "196/196 [==============================] - 6s 33ms/step - loss: 0.3916 - accuracy: 0.8616 - val_loss: 0.6293 - val_accuracy: 0.7958\n",
            "Epoch 181/200\n",
            "196/196 [==============================] - 6s 33ms/step - loss: 0.3856 - accuracy: 0.8636 - val_loss: 0.6416 - val_accuracy: 0.7888\n",
            "Epoch 182/200\n",
            "196/196 [==============================] - 6s 33ms/step - loss: 0.3876 - accuracy: 0.8616 - val_loss: 0.6356 - val_accuracy: 0.7909\n",
            "Epoch 183/200\n",
            "196/196 [==============================] - 7s 34ms/step - loss: 0.3853 - accuracy: 0.8648 - val_loss: 0.6289 - val_accuracy: 0.7928\n",
            "Epoch 184/200\n",
            "196/196 [==============================] - 6s 33ms/step - loss: 0.3860 - accuracy: 0.8618 - val_loss: 0.6648 - val_accuracy: 0.7820\n",
            "Epoch 185/200\n",
            "196/196 [==============================] - 6s 33ms/step - loss: 0.3839 - accuracy: 0.8651 - val_loss: 0.6232 - val_accuracy: 0.7953\n",
            "Epoch 186/200\n",
            "196/196 [==============================] - 7s 33ms/step - loss: 0.3738 - accuracy: 0.8677 - val_loss: 0.6163 - val_accuracy: 0.7953\n",
            "Epoch 187/200\n",
            "196/196 [==============================] - 7s 34ms/step - loss: 0.3689 - accuracy: 0.8689 - val_loss: 0.6211 - val_accuracy: 0.7947\n",
            "Epoch 188/200\n",
            "196/196 [==============================] - 7s 34ms/step - loss: 0.3700 - accuracy: 0.8688 - val_loss: 0.6249 - val_accuracy: 0.7944\n",
            "Epoch 189/200\n",
            "196/196 [==============================] - 6s 33ms/step - loss: 0.3695 - accuracy: 0.8688 - val_loss: 0.6450 - val_accuracy: 0.7891\n",
            "Epoch 190/200\n",
            "196/196 [==============================] - 7s 33ms/step - loss: 0.3701 - accuracy: 0.8693 - val_loss: 0.6266 - val_accuracy: 0.7939\n",
            "Epoch 191/200\n",
            "196/196 [==============================] - 6s 33ms/step - loss: 0.3657 - accuracy: 0.8701 - val_loss: 0.6384 - val_accuracy: 0.7914\n",
            "Epoch 192/200\n",
            "196/196 [==============================] - 6s 33ms/step - loss: 0.3676 - accuracy: 0.8692 - val_loss: 0.6397 - val_accuracy: 0.7900\n",
            "Epoch 193/200\n",
            "196/196 [==============================] - 7s 33ms/step - loss: 0.3641 - accuracy: 0.8710 - val_loss: 0.6718 - val_accuracy: 0.7843\n",
            "Epoch 194/200\n",
            "196/196 [==============================] - 6s 33ms/step - loss: 0.3637 - accuracy: 0.8706 - val_loss: 0.6322 - val_accuracy: 0.7940\n",
            "Epoch 195/200\n",
            "196/196 [==============================] - 6s 33ms/step - loss: 0.3676 - accuracy: 0.8679 - val_loss: 0.6373 - val_accuracy: 0.7931\n",
            "Epoch 196/200\n",
            "196/196 [==============================] - 7s 33ms/step - loss: 0.3529 - accuracy: 0.8762 - val_loss: 0.6479 - val_accuracy: 0.7895\n",
            "Epoch 197/200\n",
            "196/196 [==============================] - 6s 33ms/step - loss: 0.3538 - accuracy: 0.8766 - val_loss: 0.6528 - val_accuracy: 0.7906\n",
            "Epoch 198/200\n",
            "196/196 [==============================] - 6s 33ms/step - loss: 0.3540 - accuracy: 0.8752 - val_loss: 0.6597 - val_accuracy: 0.7897\n",
            "Epoch 199/200\n",
            "196/196 [==============================] - 7s 33ms/step - loss: 0.3484 - accuracy: 0.8781 - val_loss: 0.6495 - val_accuracy: 0.7946\n",
            "Epoch 200/200\n",
            "196/196 [==============================] - 6s 33ms/step - loss: 0.3508 - accuracy: 0.8754 - val_loss: 0.6569 - val_accuracy: 0.7906\n"
          ]
        }
      ]
    },
    {
      "cell_type": "code",
      "source": [
        "y_pred = np.argmax(cnn.predict(X_test), axis=1)\n",
        "y_test = np.argmax(classe_one_hot_test, axis=1)\n",
        "\n",
        "print(classification_report(y_test, y_pred))\n",
        "print('matriz de confusão')\n",
        "print(confusion_matrix(y_test,y_pred))"
      ],
      "metadata": {
        "colab": {
          "base_uri": "https://localhost:8080/"
        },
        "id": "yVwoXJ0Qx2X0",
        "outputId": "54a88d49-a5b5-4487-9cc0-5e07f72901af"
      },
      "id": "yVwoXJ0Qx2X0",
      "execution_count": 37,
      "outputs": [
        {
          "output_type": "stream",
          "name": "stdout",
          "text": [
            "              precision    recall  f1-score   support\n",
            "\n",
            "           0       0.80      0.83      0.81      1000\n",
            "           1       0.85      0.91      0.88      1000\n",
            "           2       0.74      0.71      0.73      1000\n",
            "           3       0.66      0.61      0.63      1000\n",
            "           4       0.78      0.77      0.78      1000\n",
            "           5       0.67      0.77      0.71      1000\n",
            "           6       0.79      0.87      0.83      1000\n",
            "           7       0.81      0.84      0.82      1000\n",
            "           8       0.91      0.79      0.85      1000\n",
            "           9       0.90      0.81      0.86      1000\n",
            "\n",
            "    accuracy                           0.79     10000\n",
            "   macro avg       0.79      0.79      0.79     10000\n",
            "weighted avg       0.79      0.79      0.79     10000\n",
            "\n",
            "matriz de confusão\n",
            "[[826  21  44  16  12   7  13  20  27  14]\n",
            " [ 16 906   6   8   2   4  10   2  12  34]\n",
            " [ 45   6 709  53  52  56  50  25   3   1]\n",
            " [  9   4  51 609  46 178  60  36   5   2]\n",
            " [ 10   1  39  43 774  38  50  41   3   1]\n",
            " [  4   3  26 108  32 765  15  45   2   0]\n",
            " [  3   3  35  43  17  19 873   5   1   1]\n",
            " [ 13   1  19  17  45  57   8 837   1   2]\n",
            " [ 78  33  18  18   5   8  11   3 794  32]\n",
            " [ 25  83   8   8   2  10  12  18  21 813]]\n"
          ]
        }
      ]
    },
    {
      "cell_type": "code",
      "source": [
        "plt.figure(figsize=(12,6))\n",
        "plt.title('Train_loss & Val_loss')\n",
        "plt.xlabel('Epochs')\n",
        "plt.ylabel('Loss')\n",
        "plt.plot(history.history['loss'], color='red', label='Loss')\n",
        "plt.plot(history.history['val_loss'], color='blue', label='Val_Loss')\n",
        "plt.legend(loc='best')\n",
        "plt.show()"
      ],
      "metadata": {
        "colab": {
          "base_uri": "https://localhost:8080/",
          "height": 404
        },
        "id": "c6WMloUpyA6_",
        "outputId": "457f8c5a-60f3-4b89-c754-5369b145f4af"
      },
      "id": "c6WMloUpyA6_",
      "execution_count": 38,
      "outputs": [
        {
          "output_type": "display_data",
          "data": {
            "text/plain": [
              "<Figure size 864x432 with 1 Axes>"
            ],
            "image/png": "[encoded data removed]"
          },
          "metadata": {
            "needs_background": "light"
          }
        }
      ]
    }
  ],
  "metadata": {
    "colab": {
      "name": "Lista_2_Deep_Learning.ipynb",
      "provenance": []
    },
    "kernelspec": {
      "display_name": "Python 3 (ipykernel)",
      "language": "python",
      "name": "python3"
    },
    "language_info": {
      "codemirror_mode": {
        "name": "ipython",
        "version": 3
      },
      "file_extension": ".py",
      "mimetype": "text/x-python",
      "name": "python",
      "nbconvert_exporter": "python",
      "pygments_lexer": "ipython3",
      "version": "3.9.7"
    },
    "accelerator": "GPU"
  },
  "nbformat": 4,
  "nbformat_minor": 5
}